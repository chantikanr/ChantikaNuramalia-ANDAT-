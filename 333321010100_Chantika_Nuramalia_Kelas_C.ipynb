{
  "cells": [
    {
      "cell_type": "markdown",
      "metadata": {
        "id": "view-in-github",
        "colab_type": "text"
      },
      "source": [
        "<a href=\"https://colab.research.google.com/github/chantikanr/ChantikaNuramalia-ANDAT-/blob/main/333321010100_Chantika_Nuramalia_Kelas_C.ipynb\" target=\"_parent\"><img src=\"https://colab.research.google.com/assets/colab-badge.svg\" alt=\"Open In Colab\"/></a>"
      ]
    },
    {
      "cell_type": "markdown",
      "metadata": {
        "id": "TFN6Of7TWe57"
      },
      "source": [
        "## 1. Data Preprocessing"
      ]
    },
    {
      "cell_type": "markdown",
      "metadata": {
        "id": "cvS878SumIw0"
      },
      "source": [
        "## Overview\n",
        "\n",
        "Practice for Data Analytic Class in Merdeka Belajar \n",
        "\n",
        "## Objecive\n",
        "\n",
        "• Retrieving data \n",
        "\n",
        "• Cleansing, integrating\n",
        "dan transforming data\n",
        "\n",
        "• Data Preparation\n",
        "\n",
        "• Exploratory Data\n",
        "Analysis\n",
        "\n",
        "• Data Visualization\n"
      ]
    },
    {
      "cell_type": "markdown",
      "metadata": {
        "id": "0EcHLMXgZr5f"
      },
      "source": [
        "Data contains details of various drugs (used for conditions like Acne, Cancer, Heart Disease, etc. ) and their side effects\n",
        "\n",
        "Drugs detail URLs were collected from following dataset\n",
        "\n",
        "https://www.kaggle.com/datasets/jithinanievarghese/drugs-side-effects-and-medical-condition"
      ]
    },
    {
      "cell_type": "markdown",
      "metadata": {
        "id": "IADUBKDnWr3s"
      },
      "source": [
        "**1.1 Importing Library**"
      ]
    },
    {
      "cell_type": "markdown",
      "source": [
        "Enter the following syntax to include the library"
      ],
      "metadata": {
        "id": "lSJ8ADNV2eDn"
      }
    },
    {
      "cell_type": "code",
      "execution_count": 1,
      "metadata": {
        "id": "CvNhhTZtGoGV",
        "vscode": {
          "languageId": "python"
        }
      },
      "outputs": [],
      "source": [
        "import pandas as pd\n",
        "import numpy as np\n",
        "import matplotlib.pyplot as plt\n",
        "from sklearn.preprocessing import LabelEncoder\n",
        "\n",
        "from sklearn.model_selection import train_test_split\n",
        "from sklearn.model_selection import cross_val_score\n",
        "from sklearn.model_selection import KFold\n",
        "from sklearn.metrics import accuracy_score"
      ]
    },
    {
      "cell_type": "markdown",
      "metadata": {
        "id": "Ydt444CDW46r"
      },
      "source": [
        "**1.2 Importing Dataset**"
      ]
    },
    {
      "cell_type": "markdown",
      "source": [
        "For the dataset use this syntax"
      ],
      "metadata": {
        "id": "paXYo7-Q3C2-"
      }
    },
    {
      "cell_type": "code",
      "execution_count": 2,
      "metadata": {
        "id": "SpkeEnsdTfH3",
        "vscode": {
          "languageId": "python"
        },
        "colab": {
          "base_uri": "https://localhost:8080/"
        },
        "outputId": "356ae1c1-97d4-485c-c3ee-2236c953db38"
      },
      "outputs": [
        {
          "output_type": "stream",
          "name": "stdout",
          "text": [
            "Downloading...\n",
            "From: https://drive.google.com/uc?id=17IVFL0JLa_5ynA4O3OosVgUArTG7UO1F\n",
            "To: /content/drugs_side_effects_drugs_com.csv\n",
            "\r  0% 0.00/11.6M [00:00<?, ?B/s]\r 41% 4.72M/11.6M [00:00<00:00, 42.2MB/s]\r100% 11.6M/11.6M [00:00<00:00, 74.0MB/s]\n"
          ]
        }
      ],
      "source": [
        "!gdown 17IVFL0JLa_5ynA4O3OosVgUArTG7UO1F"
      ]
    },
    {
      "cell_type": "code",
      "execution_count": 3,
      "metadata": {
        "colab": {
          "base_uri": "https://localhost:8080/",
          "height": 1000
        },
        "id": "N0fME_84YBzx",
        "outputId": "76e2613b-13bc-4a85-cd47-623a91d708ef",
        "vscode": {
          "languageId": "python"
        }
      },
      "outputs": [
        {
          "output_type": "execute_result",
          "data": {
            "text/plain": [
              "           drug_name medical_condition  \\\n",
              "0        doxycycline              Acne   \n",
              "1     spironolactone              Acne   \n",
              "2        minocycline              Acne   \n",
              "3           Accutane              Acne   \n",
              "4        clindamycin              Acne   \n",
              "...              ...               ...   \n",
              "2926   benzphetamine       Weight Loss   \n",
              "2927    fenfluramine       Weight Loss   \n",
              "2928     Fendique ER       Weight Loss   \n",
              "2929        Imcivree       Weight Loss   \n",
              "2930   setmelanotide       Weight Loss   \n",
              "\n",
              "                                           side_effects  \\\n",
              "0     (hives, difficult breathing, swelling in your ...   \n",
              "1     hives ; difficulty breathing; swelling of your...   \n",
              "2     skin rash, fever, swollen glands, flu-like sym...   \n",
              "3     problems with your vision or hearing; muscle o...   \n",
              "4     hives ; difficult breathing; swelling of your ...   \n",
              "...                                                 ...   \n",
              "2926  hives ; difficulty breathing; swelling of your...   \n",
              "2927  hives ; difficult breathing; swelling of your ...   \n",
              "2928                                                NaN   \n",
              "2929  Imcivree may cause serious side effects, inclu...   \n",
              "2930  hives ; difficult breathing; swelling of your ...   \n",
              "\n",
              "                  generic_name  \\\n",
              "0                  doxycycline   \n",
              "1               spironolactone   \n",
              "2                  minocycline   \n",
              "3          isotretinoin (oral)   \n",
              "4          clindamycin topical   \n",
              "...                        ...   \n",
              "2926             benzphetamine   \n",
              "2927              fenfluramine   \n",
              "2928  phendimetrazine tartrate   \n",
              "2929             setmelanotide   \n",
              "2930             setmelanotide   \n",
              "\n",
              "                                           drug_classes  \\\n",
              "0            Miscellaneous antimalarials, Tetracyclines   \n",
              "1     Aldosterone receptor antagonists, Potassium-sp...   \n",
              "2                                         Tetracyclines   \n",
              "3     Miscellaneous antineoplastics, Miscellaneous u...   \n",
              "4          Topical acne agents, Vaginal anti-infectives   \n",
              "...                                                 ...   \n",
              "2926                        Anorexiants, CNS stimulants   \n",
              "2927  Anorexiants, CNS stimulants, Miscellaneous ant...   \n",
              "2928                        Anorexiants, CNS stimulants   \n",
              "2929                     Melanocortin receptor agonists   \n",
              "2930                     Melanocortin receptor agonists   \n",
              "\n",
              "                                            brand_names activity rx_otc  \\\n",
              "0     Acticlate, Adoxa CK, Adoxa Pak, Adoxa TT, Alod...      87%     Rx   \n",
              "1                                   Aldactone, CaroSpir      82%     Rx   \n",
              "2     Dynacin, Minocin, Minolira, Solodyn, Ximino, V...      48%     Rx   \n",
              "3                                                   NaN      41%     Rx   \n",
              "4     Cleocin T, Clindacin ETZ, Clindacin P, Clindag...      39%     Rx   \n",
              "...                                                 ...      ...    ...   \n",
              "2926                                    Didrex, Regimex       2%     Rx   \n",
              "2927                                           Fintepla       1%     Rx   \n",
              "2928                                                NaN       0%     Rx   \n",
              "2929                                                NaN       0%     Rx   \n",
              "2930                                           Imcivree       0%     Rx   \n",
              "\n",
              "     pregnancy_category csa alcohol  \\\n",
              "0                     D   N       X   \n",
              "1                     C   N       X   \n",
              "2                     D   N     NaN   \n",
              "3                     X   N       X   \n",
              "4                     B   N     NaN   \n",
              "...                 ...  ..     ...   \n",
              "2926                  X   3       X   \n",
              "2927                  C   4       X   \n",
              "2928                  C   3       X   \n",
              "2929                NaN   N     NaN   \n",
              "2930                NaN   N     NaN   \n",
              "\n",
              "                                          related_drugs  \\\n",
              "0     amoxicillin: https://www.drugs.com/amoxicillin...   \n",
              "1     amlodipine: https://www.drugs.com/amlodipine.h...   \n",
              "2     amoxicillin: https://www.drugs.com/amoxicillin...   \n",
              "3     doxycycline: https://www.drugs.com/doxycycline...   \n",
              "4     doxycycline: https://www.drugs.com/doxycycline...   \n",
              "...                                                 ...   \n",
              "2926  phentermine: https://www.drugs.com/phentermine...   \n",
              "2927                                                NaN   \n",
              "2928  phentermine: https://www.drugs.com/phentermine...   \n",
              "2929  phentermine: https://www.drugs.com/phentermine...   \n",
              "2930  phentermine: https://www.drugs.com/phentermine...   \n",
              "\n",
              "                          medical_condition_description  rating  \\\n",
              "0     Acne Other names: Acne Vulgaris; Blackheads; B...     6.8   \n",
              "1     Acne Other names: Acne Vulgaris; Blackheads; B...     7.2   \n",
              "2     Acne Other names: Acne Vulgaris; Blackheads; B...     5.7   \n",
              "3     Acne Other names: Acne Vulgaris; Blackheads; B...     7.9   \n",
              "4     Acne Other names: Acne Vulgaris; Blackheads; B...     7.4   \n",
              "...                                                 ...     ...   \n",
              "2926  Weight Loss (Obesity/Overweight) More than hal...     7.5   \n",
              "2927  Weight Loss (Obesity/Overweight) More than hal...     NaN   \n",
              "2928  Weight Loss (Obesity/Overweight) More than hal...     NaN   \n",
              "2929  Weight Loss (Obesity/Overweight) More than hal...     NaN   \n",
              "2930  Weight Loss (Obesity/Overweight) More than hal...     NaN   \n",
              "\n",
              "      no_of_reviews                                          drug_link  \\\n",
              "0             760.0             https://www.drugs.com/doxycycline.html   \n",
              "1             449.0          https://www.drugs.com/spironolactone.html   \n",
              "2             482.0             https://www.drugs.com/minocycline.html   \n",
              "3             623.0                https://www.drugs.com/accutane.html   \n",
              "4             146.0  https://www.drugs.com/mtm/clindamycin-topical....   \n",
              "...             ...                                                ...   \n",
              "2926           17.0       https://www.drugs.com/mtm/benzphetamine.html   \n",
              "2927            NaN        https://www.drugs.com/mtm/fenfluramine.html   \n",
              "2928            NaN         https://www.drugs.com/pro/fendique-er.html   \n",
              "2929            NaN                https://www.drugs.com/imcivree.html   \n",
              "2930            NaN       https://www.drugs.com/mtm/setmelanotide.html   \n",
              "\n",
              "                             medical_condition_url  \n",
              "0        https://www.drugs.com/condition/acne.html  \n",
              "1        https://www.drugs.com/condition/acne.html  \n",
              "2        https://www.drugs.com/condition/acne.html  \n",
              "3        https://www.drugs.com/condition/acne.html  \n",
              "4        https://www.drugs.com/condition/acne.html  \n",
              "...                                            ...  \n",
              "2926  https://www.drugs.com/condition/obesity.html  \n",
              "2927  https://www.drugs.com/condition/obesity.html  \n",
              "2928  https://www.drugs.com/condition/obesity.html  \n",
              "2929  https://www.drugs.com/condition/obesity.html  \n",
              "2930  https://www.drugs.com/condition/obesity.html  \n",
              "\n",
              "[2931 rows x 17 columns]"
            ],
            "text/html": [
              "\n",
              "  <div id=\"df-4444b885-1c70-47e8-b073-e08b87f4bebf\">\n",
              "    <div class=\"colab-df-container\">\n",
              "      <div>\n",
              "<style scoped>\n",
              "    .dataframe tbody tr th:only-of-type {\n",
              "        vertical-align: middle;\n",
              "    }\n",
              "\n",
              "    .dataframe tbody tr th {\n",
              "        vertical-align: top;\n",
              "    }\n",
              "\n",
              "    .dataframe thead th {\n",
              "        text-align: right;\n",
              "    }\n",
              "</style>\n",
              "<table border=\"1\" class=\"dataframe\">\n",
              "  <thead>\n",
              "    <tr style=\"text-align: right;\">\n",
              "      <th></th>\n",
              "      <th>drug_name</th>\n",
              "      <th>medical_condition</th>\n",
              "      <th>side_effects</th>\n",
              "      <th>generic_name</th>\n",
              "      <th>drug_classes</th>\n",
              "      <th>brand_names</th>\n",
              "      <th>activity</th>\n",
              "      <th>rx_otc</th>\n",
              "      <th>pregnancy_category</th>\n",
              "      <th>csa</th>\n",
              "      <th>alcohol</th>\n",
              "      <th>related_drugs</th>\n",
              "      <th>medical_condition_description</th>\n",
              "      <th>rating</th>\n",
              "      <th>no_of_reviews</th>\n",
              "      <th>drug_link</th>\n",
              "      <th>medical_condition_url</th>\n",
              "    </tr>\n",
              "  </thead>\n",
              "  <tbody>\n",
              "    <tr>\n",
              "      <th>0</th>\n",
              "      <td>doxycycline</td>\n",
              "      <td>Acne</td>\n",
              "      <td>(hives, difficult breathing, swelling in your ...</td>\n",
              "      <td>doxycycline</td>\n",
              "      <td>Miscellaneous antimalarials, Tetracyclines</td>\n",
              "      <td>Acticlate, Adoxa CK, Adoxa Pak, Adoxa TT, Alod...</td>\n",
              "      <td>87%</td>\n",
              "      <td>Rx</td>\n",
              "      <td>D</td>\n",
              "      <td>N</td>\n",
              "      <td>X</td>\n",
              "      <td>amoxicillin: https://www.drugs.com/amoxicillin...</td>\n",
              "      <td>Acne Other names: Acne Vulgaris; Blackheads; B...</td>\n",
              "      <td>6.8</td>\n",
              "      <td>760.0</td>\n",
              "      <td>https://www.drugs.com/doxycycline.html</td>\n",
              "      <td>https://www.drugs.com/condition/acne.html</td>\n",
              "    </tr>\n",
              "    <tr>\n",
              "      <th>1</th>\n",
              "      <td>spironolactone</td>\n",
              "      <td>Acne</td>\n",
              "      <td>hives ; difficulty breathing; swelling of your...</td>\n",
              "      <td>spironolactone</td>\n",
              "      <td>Aldosterone receptor antagonists, Potassium-sp...</td>\n",
              "      <td>Aldactone, CaroSpir</td>\n",
              "      <td>82%</td>\n",
              "      <td>Rx</td>\n",
              "      <td>C</td>\n",
              "      <td>N</td>\n",
              "      <td>X</td>\n",
              "      <td>amlodipine: https://www.drugs.com/amlodipine.h...</td>\n",
              "      <td>Acne Other names: Acne Vulgaris; Blackheads; B...</td>\n",
              "      <td>7.2</td>\n",
              "      <td>449.0</td>\n",
              "      <td>https://www.drugs.com/spironolactone.html</td>\n",
              "      <td>https://www.drugs.com/condition/acne.html</td>\n",
              "    </tr>\n",
              "    <tr>\n",
              "      <th>2</th>\n",
              "      <td>minocycline</td>\n",
              "      <td>Acne</td>\n",
              "      <td>skin rash, fever, swollen glands, flu-like sym...</td>\n",
              "      <td>minocycline</td>\n",
              "      <td>Tetracyclines</td>\n",
              "      <td>Dynacin, Minocin, Minolira, Solodyn, Ximino, V...</td>\n",
              "      <td>48%</td>\n",
              "      <td>Rx</td>\n",
              "      <td>D</td>\n",
              "      <td>N</td>\n",
              "      <td>NaN</td>\n",
              "      <td>amoxicillin: https://www.drugs.com/amoxicillin...</td>\n",
              "      <td>Acne Other names: Acne Vulgaris; Blackheads; B...</td>\n",
              "      <td>5.7</td>\n",
              "      <td>482.0</td>\n",
              "      <td>https://www.drugs.com/minocycline.html</td>\n",
              "      <td>https://www.drugs.com/condition/acne.html</td>\n",
              "    </tr>\n",
              "    <tr>\n",
              "      <th>3</th>\n",
              "      <td>Accutane</td>\n",
              "      <td>Acne</td>\n",
              "      <td>problems with your vision or hearing; muscle o...</td>\n",
              "      <td>isotretinoin (oral)</td>\n",
              "      <td>Miscellaneous antineoplastics, Miscellaneous u...</td>\n",
              "      <td>NaN</td>\n",
              "      <td>41%</td>\n",
              "      <td>Rx</td>\n",
              "      <td>X</td>\n",
              "      <td>N</td>\n",
              "      <td>X</td>\n",
              "      <td>doxycycline: https://www.drugs.com/doxycycline...</td>\n",
              "      <td>Acne Other names: Acne Vulgaris; Blackheads; B...</td>\n",
              "      <td>7.9</td>\n",
              "      <td>623.0</td>\n",
              "      <td>https://www.drugs.com/accutane.html</td>\n",
              "      <td>https://www.drugs.com/condition/acne.html</td>\n",
              "    </tr>\n",
              "    <tr>\n",
              "      <th>4</th>\n",
              "      <td>clindamycin</td>\n",
              "      <td>Acne</td>\n",
              "      <td>hives ; difficult breathing; swelling of your ...</td>\n",
              "      <td>clindamycin topical</td>\n",
              "      <td>Topical acne agents, Vaginal anti-infectives</td>\n",
              "      <td>Cleocin T, Clindacin ETZ, Clindacin P, Clindag...</td>\n",
              "      <td>39%</td>\n",
              "      <td>Rx</td>\n",
              "      <td>B</td>\n",
              "      <td>N</td>\n",
              "      <td>NaN</td>\n",
              "      <td>doxycycline: https://www.drugs.com/doxycycline...</td>\n",
              "      <td>Acne Other names: Acne Vulgaris; Blackheads; B...</td>\n",
              "      <td>7.4</td>\n",
              "      <td>146.0</td>\n",
              "      <td>https://www.drugs.com/mtm/clindamycin-topical....</td>\n",
              "      <td>https://www.drugs.com/condition/acne.html</td>\n",
              "    </tr>\n",
              "    <tr>\n",
              "      <th>...</th>\n",
              "      <td>...</td>\n",
              "      <td>...</td>\n",
              "      <td>...</td>\n",
              "      <td>...</td>\n",
              "      <td>...</td>\n",
              "      <td>...</td>\n",
              "      <td>...</td>\n",
              "      <td>...</td>\n",
              "      <td>...</td>\n",
              "      <td>...</td>\n",
              "      <td>...</td>\n",
              "      <td>...</td>\n",
              "      <td>...</td>\n",
              "      <td>...</td>\n",
              "      <td>...</td>\n",
              "      <td>...</td>\n",
              "      <td>...</td>\n",
              "    </tr>\n",
              "    <tr>\n",
              "      <th>2926</th>\n",
              "      <td>benzphetamine</td>\n",
              "      <td>Weight Loss</td>\n",
              "      <td>hives ; difficulty breathing; swelling of your...</td>\n",
              "      <td>benzphetamine</td>\n",
              "      <td>Anorexiants, CNS stimulants</td>\n",
              "      <td>Didrex, Regimex</td>\n",
              "      <td>2%</td>\n",
              "      <td>Rx</td>\n",
              "      <td>X</td>\n",
              "      <td>3</td>\n",
              "      <td>X</td>\n",
              "      <td>phentermine: https://www.drugs.com/phentermine...</td>\n",
              "      <td>Weight Loss (Obesity/Overweight) More than hal...</td>\n",
              "      <td>7.5</td>\n",
              "      <td>17.0</td>\n",
              "      <td>https://www.drugs.com/mtm/benzphetamine.html</td>\n",
              "      <td>https://www.drugs.com/condition/obesity.html</td>\n",
              "    </tr>\n",
              "    <tr>\n",
              "      <th>2927</th>\n",
              "      <td>fenfluramine</td>\n",
              "      <td>Weight Loss</td>\n",
              "      <td>hives ; difficult breathing; swelling of your ...</td>\n",
              "      <td>fenfluramine</td>\n",
              "      <td>Anorexiants, CNS stimulants, Miscellaneous ant...</td>\n",
              "      <td>Fintepla</td>\n",
              "      <td>1%</td>\n",
              "      <td>Rx</td>\n",
              "      <td>C</td>\n",
              "      <td>4</td>\n",
              "      <td>X</td>\n",
              "      <td>NaN</td>\n",
              "      <td>Weight Loss (Obesity/Overweight) More than hal...</td>\n",
              "      <td>NaN</td>\n",
              "      <td>NaN</td>\n",
              "      <td>https://www.drugs.com/mtm/fenfluramine.html</td>\n",
              "      <td>https://www.drugs.com/condition/obesity.html</td>\n",
              "    </tr>\n",
              "    <tr>\n",
              "      <th>2928</th>\n",
              "      <td>Fendique ER</td>\n",
              "      <td>Weight Loss</td>\n",
              "      <td>NaN</td>\n",
              "      <td>phendimetrazine tartrate</td>\n",
              "      <td>Anorexiants, CNS stimulants</td>\n",
              "      <td>NaN</td>\n",
              "      <td>0%</td>\n",
              "      <td>Rx</td>\n",
              "      <td>C</td>\n",
              "      <td>3</td>\n",
              "      <td>X</td>\n",
              "      <td>phentermine: https://www.drugs.com/phentermine...</td>\n",
              "      <td>Weight Loss (Obesity/Overweight) More than hal...</td>\n",
              "      <td>NaN</td>\n",
              "      <td>NaN</td>\n",
              "      <td>https://www.drugs.com/pro/fendique-er.html</td>\n",
              "      <td>https://www.drugs.com/condition/obesity.html</td>\n",
              "    </tr>\n",
              "    <tr>\n",
              "      <th>2929</th>\n",
              "      <td>Imcivree</td>\n",
              "      <td>Weight Loss</td>\n",
              "      <td>Imcivree may cause serious side effects, inclu...</td>\n",
              "      <td>setmelanotide</td>\n",
              "      <td>Melanocortin receptor agonists</td>\n",
              "      <td>NaN</td>\n",
              "      <td>0%</td>\n",
              "      <td>Rx</td>\n",
              "      <td>NaN</td>\n",
              "      <td>N</td>\n",
              "      <td>NaN</td>\n",
              "      <td>phentermine: https://www.drugs.com/phentermine...</td>\n",
              "      <td>Weight Loss (Obesity/Overweight) More than hal...</td>\n",
              "      <td>NaN</td>\n",
              "      <td>NaN</td>\n",
              "      <td>https://www.drugs.com/imcivree.html</td>\n",
              "      <td>https://www.drugs.com/condition/obesity.html</td>\n",
              "    </tr>\n",
              "    <tr>\n",
              "      <th>2930</th>\n",
              "      <td>setmelanotide</td>\n",
              "      <td>Weight Loss</td>\n",
              "      <td>hives ; difficult breathing; swelling of your ...</td>\n",
              "      <td>setmelanotide</td>\n",
              "      <td>Melanocortin receptor agonists</td>\n",
              "      <td>Imcivree</td>\n",
              "      <td>0%</td>\n",
              "      <td>Rx</td>\n",
              "      <td>NaN</td>\n",
              "      <td>N</td>\n",
              "      <td>NaN</td>\n",
              "      <td>phentermine: https://www.drugs.com/phentermine...</td>\n",
              "      <td>Weight Loss (Obesity/Overweight) More than hal...</td>\n",
              "      <td>NaN</td>\n",
              "      <td>NaN</td>\n",
              "      <td>https://www.drugs.com/mtm/setmelanotide.html</td>\n",
              "      <td>https://www.drugs.com/condition/obesity.html</td>\n",
              "    </tr>\n",
              "  </tbody>\n",
              "</table>\n",
              "<p>2931 rows × 17 columns</p>\n",
              "</div>\n",
              "      <button class=\"colab-df-convert\" onclick=\"convertToInteractive('df-4444b885-1c70-47e8-b073-e08b87f4bebf')\"\n",
              "              title=\"Convert this dataframe to an interactive table.\"\n",
              "              style=\"display:none;\">\n",
              "        \n",
              "  <svg xmlns=\"http://www.w3.org/2000/svg\" height=\"24px\"viewBox=\"0 0 24 24\"\n",
              "       width=\"24px\">\n",
              "    <path d=\"M0 0h24v24H0V0z\" fill=\"none\"/>\n",
              "    <path d=\"M18.56 5.44l.94 2.06.94-2.06 2.06-.94-2.06-.94-.94-2.06-.94 2.06-2.06.94zm-11 1L8.5 8.5l.94-2.06 2.06-.94-2.06-.94L8.5 2.5l-.94 2.06-2.06.94zm10 10l.94 2.06.94-2.06 2.06-.94-2.06-.94-.94-2.06-.94 2.06-2.06.94z\"/><path d=\"M17.41 7.96l-1.37-1.37c-.4-.4-.92-.59-1.43-.59-.52 0-1.04.2-1.43.59L10.3 9.45l-7.72 7.72c-.78.78-.78 2.05 0 2.83L4 21.41c.39.39.9.59 1.41.59.51 0 1.02-.2 1.41-.59l7.78-7.78 2.81-2.81c.8-.78.8-2.07 0-2.86zM5.41 20L4 18.59l7.72-7.72 1.47 1.35L5.41 20z\"/>\n",
              "  </svg>\n",
              "      </button>\n",
              "      \n",
              "  <style>\n",
              "    .colab-df-container {\n",
              "      display:flex;\n",
              "      flex-wrap:wrap;\n",
              "      gap: 12px;\n",
              "    }\n",
              "\n",
              "    .colab-df-convert {\n",
              "      background-color: #E8F0FE;\n",
              "      border: none;\n",
              "      border-radius: 50%;\n",
              "      cursor: pointer;\n",
              "      display: none;\n",
              "      fill: #1967D2;\n",
              "      height: 32px;\n",
              "      padding: 0 0 0 0;\n",
              "      width: 32px;\n",
              "    }\n",
              "\n",
              "    .colab-df-convert:hover {\n",
              "      background-color: #E2EBFA;\n",
              "      box-shadow: 0px 1px 2px rgba(60, 64, 67, 0.3), 0px 1px 3px 1px rgba(60, 64, 67, 0.15);\n",
              "      fill: #174EA6;\n",
              "    }\n",
              "\n",
              "    [theme=dark] .colab-df-convert {\n",
              "      background-color: #3B4455;\n",
              "      fill: #D2E3FC;\n",
              "    }\n",
              "\n",
              "    [theme=dark] .colab-df-convert:hover {\n",
              "      background-color: #434B5C;\n",
              "      box-shadow: 0px 1px 3px 1px rgba(0, 0, 0, 0.15);\n",
              "      filter: drop-shadow(0px 1px 2px rgba(0, 0, 0, 0.3));\n",
              "      fill: #FFFFFF;\n",
              "    }\n",
              "  </style>\n",
              "\n",
              "      <script>\n",
              "        const buttonEl =\n",
              "          document.querySelector('#df-4444b885-1c70-47e8-b073-e08b87f4bebf button.colab-df-convert');\n",
              "        buttonEl.style.display =\n",
              "          google.colab.kernel.accessAllowed ? 'block' : 'none';\n",
              "\n",
              "        async function convertToInteractive(key) {\n",
              "          const element = document.querySelector('#df-4444b885-1c70-47e8-b073-e08b87f4bebf');\n",
              "          const dataTable =\n",
              "            await google.colab.kernel.invokeFunction('convertToInteractive',\n",
              "                                                     [key], {});\n",
              "          if (!dataTable) return;\n",
              "\n",
              "          const docLinkHtml = 'Like what you see? Visit the ' +\n",
              "            '<a target=\"_blank\" href=https://colab.research.google.com/notebooks/data_table.ipynb>data table notebook</a>'\n",
              "            + ' to learn more about interactive tables.';\n",
              "          element.innerHTML = '';\n",
              "          dataTable['output_type'] = 'display_data';\n",
              "          await google.colab.output.renderOutput(dataTable, element);\n",
              "          const docLink = document.createElement('div');\n",
              "          docLink.innerHTML = docLinkHtml;\n",
              "          element.appendChild(docLink);\n",
              "        }\n",
              "      </script>\n",
              "    </div>\n",
              "  </div>\n",
              "  "
            ]
          },
          "metadata": {},
          "execution_count": 3
        }
      ],
      "source": [
        "import pandas as pd\n",
        "dataset = pd.read_csv('/content/drugs_side_effects_drugs_com.csv')\n",
        "dataset"
      ]
    },
    {
      "cell_type": "markdown",
      "metadata": {
        "id": "UDDwMkOVdAS-"
      },
      "source": [
        "## 2. Exploratory Data"
      ]
    },
    {
      "cell_type": "markdown",
      "source": [
        "To find the number of rows and columns you can use the following syntax"
      ],
      "metadata": {
        "id": "wMHSqF7Z36P0"
      }
    },
    {
      "cell_type": "code",
      "execution_count": 4,
      "metadata": {
        "colab": {
          "base_uri": "https://localhost:8080/"
        },
        "id": "gfY3IjMzdDsN",
        "outputId": "ebb6a9ac-2e70-4f45-b0e0-283c16f74dfa",
        "vscode": {
          "languageId": "python"
        }
      },
      "outputs": [
        {
          "output_type": "execute_result",
          "data": {
            "text/plain": [
              "(2931, 17)"
            ]
          },
          "metadata": {},
          "execution_count": 4
        }
      ],
      "source": [
        "dataset.shape"
      ]
    },
    {
      "cell_type": "markdown",
      "source": [
        "To see a list containing the column names of a dataset, you can use the following syntax"
      ],
      "metadata": {
        "id": "S-v8SLGM4XFK"
      }
    },
    {
      "cell_type": "code",
      "execution_count": 5,
      "metadata": {
        "colab": {
          "base_uri": "https://localhost:8080/"
        },
        "id": "v2bT3bcCdad5",
        "outputId": "ea69657f-d9bd-45bf-e345-b59543a2c9a8",
        "vscode": {
          "languageId": "python"
        }
      },
      "outputs": [
        {
          "output_type": "execute_result",
          "data": {
            "text/plain": [
              "Index(['drug_name', 'medical_condition', 'side_effects', 'generic_name',\n",
              "       'drug_classes', 'brand_names', 'activity', 'rx_otc',\n",
              "       'pregnancy_category', 'csa', 'alcohol', 'related_drugs',\n",
              "       'medical_condition_description', 'rating', 'no_of_reviews', 'drug_link',\n",
              "       'medical_condition_url'],\n",
              "      dtype='object')"
            ]
          },
          "metadata": {},
          "execution_count": 5
        }
      ],
      "source": [
        "dataset.columns"
      ]
    },
    {
      "cell_type": "markdown",
      "source": [
        "To see the data type of each column can use this following syntax"
      ],
      "metadata": {
        "id": "sbZl38LX4Ys5"
      }
    },
    {
      "cell_type": "code",
      "execution_count": 6,
      "metadata": {
        "colab": {
          "base_uri": "https://localhost:8080/"
        },
        "id": "DGucyPqGdstV",
        "outputId": "bb3324a9-a107-425c-d606-558111f3c418",
        "vscode": {
          "languageId": "python"
        }
      },
      "outputs": [
        {
          "output_type": "execute_result",
          "data": {
            "text/plain": [
              "drug_name                         object\n",
              "medical_condition                 object\n",
              "side_effects                      object\n",
              "generic_name                      object\n",
              "drug_classes                      object\n",
              "brand_names                       object\n",
              "activity                          object\n",
              "rx_otc                            object\n",
              "pregnancy_category                object\n",
              "csa                               object\n",
              "alcohol                           object\n",
              "related_drugs                     object\n",
              "medical_condition_description     object\n",
              "rating                           float64\n",
              "no_of_reviews                    float64\n",
              "drug_link                         object\n",
              "medical_condition_url             object\n",
              "dtype: object"
            ]
          },
          "metadata": {},
          "execution_count": 6
        }
      ],
      "source": [
        "dataset.dtypes"
      ]
    },
    {
      "cell_type": "markdown",
      "source": [
        "To view summary information about a dataset, you can use the following syntax"
      ],
      "metadata": {
        "id": "YBk7UjnQ4nVE"
      }
    },
    {
      "cell_type": "code",
      "execution_count": 7,
      "metadata": {
        "colab": {
          "base_uri": "https://localhost:8080/"
        },
        "id": "R5lpoJMgdqdl",
        "outputId": "cb13d989-5b36-408e-911d-4b936efdcd88",
        "vscode": {
          "languageId": "python"
        }
      },
      "outputs": [
        {
          "output_type": "stream",
          "name": "stdout",
          "text": [
            "<class 'pandas.core.frame.DataFrame'>\n",
            "RangeIndex: 2931 entries, 0 to 2930\n",
            "Data columns (total 17 columns):\n",
            " #   Column                         Non-Null Count  Dtype  \n",
            "---  ------                         --------------  -----  \n",
            " 0   drug_name                      2931 non-null   object \n",
            " 1   medical_condition              2931 non-null   object \n",
            " 2   side_effects                   2807 non-null   object \n",
            " 3   generic_name                   2888 non-null   object \n",
            " 4   drug_classes                   2849 non-null   object \n",
            " 5   brand_names                    1718 non-null   object \n",
            " 6   activity                       2931 non-null   object \n",
            " 7   rx_otc                         2930 non-null   object \n",
            " 8   pregnancy_category             2702 non-null   object \n",
            " 9   csa                            2931 non-null   object \n",
            " 10  alcohol                        1377 non-null   object \n",
            " 11  related_drugs                  1462 non-null   object \n",
            " 12  medical_condition_description  2931 non-null   object \n",
            " 13  rating                         1586 non-null   float64\n",
            " 14  no_of_reviews                  1586 non-null   float64\n",
            " 15  drug_link                      2931 non-null   object \n",
            " 16  medical_condition_url          2931 non-null   object \n",
            "dtypes: float64(2), object(15)\n",
            "memory usage: 389.4+ KB\n"
          ]
        }
      ],
      "source": [
        "dataset.info()"
      ]
    },
    {
      "cell_type": "markdown",
      "source": [
        "To get the number of unique values ​​from each column in a dataset, you can use the following syntax"
      ],
      "metadata": {
        "id": "_lnux39i4s2J"
      }
    },
    {
      "cell_type": "code",
      "execution_count": 8,
      "metadata": {
        "colab": {
          "base_uri": "https://localhost:8080/"
        },
        "id": "iAJrbGiuf-8c",
        "outputId": "086c6459-5335-4962-dfbd-086a9c1de2bd",
        "vscode": {
          "languageId": "python"
        }
      },
      "outputs": [
        {
          "output_type": "execute_result",
          "data": {
            "text/plain": [
              "drug_name                        2912\n",
              "medical_condition                  47\n",
              "side_effects                     2759\n",
              "generic_name                     1392\n",
              "drug_classes                      274\n",
              "brand_names                      1552\n",
              "activity                           93\n",
              "rx_otc                              3\n",
              "pregnancy_category                  6\n",
              "csa                                 7\n",
              "alcohol                             1\n",
              "related_drugs                     535\n",
              "medical_condition_description      47\n",
              "rating                             86\n",
              "no_of_reviews                     301\n",
              "drug_link                        2931\n",
              "medical_condition_url              47\n",
              "dtype: int64"
            ]
          },
          "metadata": {},
          "execution_count": 8
        }
      ],
      "source": [
        "dataset.nunique()"
      ]
    },
    {
      "cell_type": "markdown",
      "metadata": {
        "id": "SsvcPPw9ekvS"
      },
      "source": [
        "**2.1 Handling Missing Value**"
      ]
    },
    {
      "cell_type": "markdown",
      "metadata": {
        "id": "tkkOl04Ee_xV"
      },
      "source": [
        "Let's assume unknown value as missing value since unknown means not known or no values"
      ]
    },
    {
      "cell_type": "code",
      "execution_count": 9,
      "metadata": {
        "colab": {
          "base_uri": "https://localhost:8080/"
        },
        "id": "rsrJsSO8fW7M",
        "outputId": "98e0be1c-a70c-402a-defd-b7301d6dd096",
        "vscode": {
          "languageId": "python"
        }
      },
      "outputs": [
        {
          "output_type": "execute_result",
          "data": {
            "text/plain": [
              "drug_name                           0\n",
              "medical_condition                   0\n",
              "side_effects                      124\n",
              "generic_name                       43\n",
              "drug_classes                       82\n",
              "brand_names                      1213\n",
              "activity                            0\n",
              "rx_otc                              1\n",
              "pregnancy_category                229\n",
              "csa                                 0\n",
              "alcohol                          1554\n",
              "related_drugs                    1469\n",
              "medical_condition_description       0\n",
              "rating                           1345\n",
              "no_of_reviews                    1345\n",
              "drug_link                           0\n",
              "medical_condition_url               0\n",
              "dtype: int64"
            ]
          },
          "metadata": {},
          "execution_count": 9
        }
      ],
      "source": [
        "dataset.isnull().sum()"
      ]
    },
    {
      "cell_type": "markdown",
      "source": [
        "Use the following syntax to find out the data type of each datasets column"
      ],
      "metadata": {
        "id": "2XJ8utkN5YDJ"
      }
    },
    {
      "cell_type": "code",
      "execution_count": 10,
      "metadata": {
        "colab": {
          "base_uri": "https://localhost:8080/"
        },
        "id": "hw2FxOlorXI8",
        "outputId": "a3e0e193-6e9d-4359-97fe-cffd60ccd5ba",
        "vscode": {
          "languageId": "python"
        }
      },
      "outputs": [
        {
          "output_type": "execute_result",
          "data": {
            "text/plain": [
              "dtype('O')"
            ]
          },
          "metadata": {},
          "execution_count": 10
        }
      ],
      "source": [
        "dataset['side_effects'].dtypes"
      ]
    },
    {
      "cell_type": "code",
      "execution_count": 11,
      "metadata": {
        "colab": {
          "base_uri": "https://localhost:8080/"
        },
        "id": "1ZQ3-sq0rg0J",
        "outputId": "721f0a1a-2161-435c-af2e-b78696f178d4",
        "vscode": {
          "languageId": "python"
        }
      },
      "outputs": [
        {
          "output_type": "execute_result",
          "data": {
            "text/plain": [
              "dtype('O')"
            ]
          },
          "metadata": {},
          "execution_count": 11
        }
      ],
      "source": [
        "dataset['generic_name'].dtypes"
      ]
    },
    {
      "cell_type": "code",
      "execution_count": 12,
      "metadata": {
        "colab": {
          "base_uri": "https://localhost:8080/"
        },
        "id": "VMWvLZjcrkuY",
        "outputId": "599db77e-06bc-45ac-f3fa-70c19d46b095",
        "vscode": {
          "languageId": "python"
        }
      },
      "outputs": [
        {
          "output_type": "execute_result",
          "data": {
            "text/plain": [
              "dtype('O')"
            ]
          },
          "metadata": {},
          "execution_count": 12
        }
      ],
      "source": [
        "dataset['drug_classes'].dtypes"
      ]
    },
    {
      "cell_type": "code",
      "execution_count": 13,
      "metadata": {
        "colab": {
          "base_uri": "https://localhost:8080/"
        },
        "id": "TDKDGdswrlUm",
        "outputId": "2fe85070-dee8-4a35-cf69-c25b5091fdb1",
        "vscode": {
          "languageId": "python"
        }
      },
      "outputs": [
        {
          "output_type": "execute_result",
          "data": {
            "text/plain": [
              "dtype('O')"
            ]
          },
          "metadata": {},
          "execution_count": 13
        }
      ],
      "source": [
        "dataset['brand_names'].dtypes"
      ]
    },
    {
      "cell_type": "code",
      "source": [
        "dataset['rx_otc'].dtypes"
      ],
      "metadata": {
        "colab": {
          "base_uri": "https://localhost:8080/"
        },
        "id": "-3IKn42_WEdO",
        "outputId": "3c5795fb-da19-4a21-97b9-5bb7fc6187b8"
      },
      "execution_count": 14,
      "outputs": [
        {
          "output_type": "execute_result",
          "data": {
            "text/plain": [
              "dtype('O')"
            ]
          },
          "metadata": {},
          "execution_count": 14
        }
      ]
    },
    {
      "cell_type": "code",
      "source": [
        "dataset['pregnancy_category'].dtypes"
      ],
      "metadata": {
        "colab": {
          "base_uri": "https://localhost:8080/"
        },
        "id": "3QdsVZI8WKLX",
        "outputId": "18150efc-43d9-4243-b82a-f9d86ad8137b"
      },
      "execution_count": 15,
      "outputs": [
        {
          "output_type": "execute_result",
          "data": {
            "text/plain": [
              "dtype('O')"
            ]
          },
          "metadata": {},
          "execution_count": 15
        }
      ]
    },
    {
      "cell_type": "code",
      "source": [
        "dataset['alcohol'].dtypes"
      ],
      "metadata": {
        "colab": {
          "base_uri": "https://localhost:8080/"
        },
        "id": "JO-tWQrvWS4D",
        "outputId": "8bc3b14a-a83e-42de-d243-9a38941c6716"
      },
      "execution_count": 16,
      "outputs": [
        {
          "output_type": "execute_result",
          "data": {
            "text/plain": [
              "dtype('O')"
            ]
          },
          "metadata": {},
          "execution_count": 16
        }
      ]
    },
    {
      "cell_type": "code",
      "source": [
        "dataset['related_drugs'].dtypes"
      ],
      "metadata": {
        "colab": {
          "base_uri": "https://localhost:8080/"
        },
        "id": "cZqejMsJWUBY",
        "outputId": "76403d85-38dd-4f77-850d-1c741392d689"
      },
      "execution_count": 17,
      "outputs": [
        {
          "output_type": "execute_result",
          "data": {
            "text/plain": [
              "dtype('O')"
            ]
          },
          "metadata": {},
          "execution_count": 17
        }
      ]
    },
    {
      "cell_type": "code",
      "source": [
        "dataset['rating'].dtypes"
      ],
      "metadata": {
        "colab": {
          "base_uri": "https://localhost:8080/"
        },
        "id": "A1tES0nFWb2A",
        "outputId": "3d1e6722-5f6e-41f7-80e7-6336a418f2ea"
      },
      "execution_count": 18,
      "outputs": [
        {
          "output_type": "execute_result",
          "data": {
            "text/plain": [
              "dtype('float64')"
            ]
          },
          "metadata": {},
          "execution_count": 18
        }
      ]
    },
    {
      "cell_type": "code",
      "source": [
        "dataset['no_of_reviews'].dtypes"
      ],
      "metadata": {
        "colab": {
          "base_uri": "https://localhost:8080/"
        },
        "id": "mZWhctcHWg3X",
        "outputId": "ae76ff74-24f2-4d6c-a37c-498d7450848b"
      },
      "execution_count": 19,
      "outputs": [
        {
          "output_type": "execute_result",
          "data": {
            "text/plain": [
              "dtype('float64')"
            ]
          },
          "metadata": {},
          "execution_count": 19
        }
      ]
    },
    {
      "cell_type": "markdown",
      "metadata": {
        "id": "v6QJEYLbpcpG"
      },
      "source": [
        "Perform imputer to handle missing value in numerical data"
      ]
    },
    {
      "cell_type": "code",
      "execution_count": 20,
      "metadata": {
        "colab": {
          "base_uri": "https://localhost:8080/",
          "height": 74
        },
        "id": "02J19YzBjpuO",
        "outputId": "67734e21-461e-4544-bfc9-7c23741e8988",
        "vscode": {
          "languageId": "python"
        }
      },
      "outputs": [
        {
          "output_type": "execute_result",
          "data": {
            "text/plain": [
              "SimpleImputer()"
            ],
            "text/html": [
              "<style>#sk-container-id-1 {color: black;background-color: white;}#sk-container-id-1 pre{padding: 0;}#sk-container-id-1 div.sk-toggleable {background-color: white;}#sk-container-id-1 label.sk-toggleable__label {cursor: pointer;display: block;width: 100%;margin-bottom: 0;padding: 0.3em;box-sizing: border-box;text-align: center;}#sk-container-id-1 label.sk-toggleable__label-arrow:before {content: \"▸\";float: left;margin-right: 0.25em;color: #696969;}#sk-container-id-1 label.sk-toggleable__label-arrow:hover:before {color: black;}#sk-container-id-1 div.sk-estimator:hover label.sk-toggleable__label-arrow:before {color: black;}#sk-container-id-1 div.sk-toggleable__content {max-height: 0;max-width: 0;overflow: hidden;text-align: left;background-color: #f0f8ff;}#sk-container-id-1 div.sk-toggleable__content pre {margin: 0.2em;color: black;border-radius: 0.25em;background-color: #f0f8ff;}#sk-container-id-1 input.sk-toggleable__control:checked~div.sk-toggleable__content {max-height: 200px;max-width: 100%;overflow: auto;}#sk-container-id-1 input.sk-toggleable__control:checked~label.sk-toggleable__label-arrow:before {content: \"▾\";}#sk-container-id-1 div.sk-estimator input.sk-toggleable__control:checked~label.sk-toggleable__label {background-color: #d4ebff;}#sk-container-id-1 div.sk-label input.sk-toggleable__control:checked~label.sk-toggleable__label {background-color: #d4ebff;}#sk-container-id-1 input.sk-hidden--visually {border: 0;clip: rect(1px 1px 1px 1px);clip: rect(1px, 1px, 1px, 1px);height: 1px;margin: -1px;overflow: hidden;padding: 0;position: absolute;width: 1px;}#sk-container-id-1 div.sk-estimator {font-family: monospace;background-color: #f0f8ff;border: 1px dotted black;border-radius: 0.25em;box-sizing: border-box;margin-bottom: 0.5em;}#sk-container-id-1 div.sk-estimator:hover {background-color: #d4ebff;}#sk-container-id-1 div.sk-parallel-item::after {content: \"\";width: 100%;border-bottom: 1px solid gray;flex-grow: 1;}#sk-container-id-1 div.sk-label:hover label.sk-toggleable__label {background-color: #d4ebff;}#sk-container-id-1 div.sk-serial::before {content: \"\";position: absolute;border-left: 1px solid gray;box-sizing: border-box;top: 0;bottom: 0;left: 50%;z-index: 0;}#sk-container-id-1 div.sk-serial {display: flex;flex-direction: column;align-items: center;background-color: white;padding-right: 0.2em;padding-left: 0.2em;position: relative;}#sk-container-id-1 div.sk-item {position: relative;z-index: 1;}#sk-container-id-1 div.sk-parallel {display: flex;align-items: stretch;justify-content: center;background-color: white;position: relative;}#sk-container-id-1 div.sk-item::before, #sk-container-id-1 div.sk-parallel-item::before {content: \"\";position: absolute;border-left: 1px solid gray;box-sizing: border-box;top: 0;bottom: 0;left: 50%;z-index: -1;}#sk-container-id-1 div.sk-parallel-item {display: flex;flex-direction: column;z-index: 1;position: relative;background-color: white;}#sk-container-id-1 div.sk-parallel-item:first-child::after {align-self: flex-end;width: 50%;}#sk-container-id-1 div.sk-parallel-item:last-child::after {align-self: flex-start;width: 50%;}#sk-container-id-1 div.sk-parallel-item:only-child::after {width: 0;}#sk-container-id-1 div.sk-dashed-wrapped {border: 1px dashed gray;margin: 0 0.4em 0.5em 0.4em;box-sizing: border-box;padding-bottom: 0.4em;background-color: white;}#sk-container-id-1 div.sk-label label {font-family: monospace;font-weight: bold;display: inline-block;line-height: 1.2em;}#sk-container-id-1 div.sk-label-container {text-align: center;}#sk-container-id-1 div.sk-container {/* jupyter's `normalize.less` sets `[hidden] { display: none; }` but bootstrap.min.css set `[hidden] { display: none !important; }` so we also need the `!important` here to be able to override the default hidden behavior on the sphinx rendered scikit-learn.org. See: https://github.com/scikit-learn/scikit-learn/issues/21755 */display: inline-block !important;position: relative;}#sk-container-id-1 div.sk-text-repr-fallback {display: none;}</style><div id=\"sk-container-id-1\" class=\"sk-top-container\"><div class=\"sk-text-repr-fallback\"><pre>SimpleImputer()</pre><b>In a Jupyter environment, please rerun this cell to show the HTML representation or trust the notebook. <br />On GitHub, the HTML representation is unable to render, please try loading this page with nbviewer.org.</b></div><div class=\"sk-container\" hidden><div class=\"sk-item\"><div class=\"sk-estimator sk-toggleable\"><input class=\"sk-toggleable__control sk-hidden--visually\" id=\"sk-estimator-id-1\" type=\"checkbox\" checked><label for=\"sk-estimator-id-1\" class=\"sk-toggleable__label sk-toggleable__label-arrow\">SimpleImputer</label><div class=\"sk-toggleable__content\"><pre>SimpleImputer()</pre></div></div></div></div></div>"
            ]
          },
          "metadata": {},
          "execution_count": 20
        }
      ],
      "source": [
        "from sklearn.impute import SimpleImputer\n",
        "imputer = SimpleImputer(missing_values= np.nan, strategy='mean')\n",
        "imputer"
      ]
    },
    {
      "cell_type": "code",
      "execution_count": 21,
      "metadata": {
        "colab": {
          "base_uri": "https://localhost:8080/",
          "height": 74
        },
        "id": "RatiEmtpsMxv",
        "outputId": "42f2ab30-32f4-4305-ca39-e569e4a8da7a",
        "vscode": {
          "languageId": "python"
        }
      },
      "outputs": [
        {
          "output_type": "execute_result",
          "data": {
            "text/plain": [
              "SimpleImputer()"
            ],
            "text/html": [
              "<style>#sk-container-id-2 {color: black;background-color: white;}#sk-container-id-2 pre{padding: 0;}#sk-container-id-2 div.sk-toggleable {background-color: white;}#sk-container-id-2 label.sk-toggleable__label {cursor: pointer;display: block;width: 100%;margin-bottom: 0;padding: 0.3em;box-sizing: border-box;text-align: center;}#sk-container-id-2 label.sk-toggleable__label-arrow:before {content: \"▸\";float: left;margin-right: 0.25em;color: #696969;}#sk-container-id-2 label.sk-toggleable__label-arrow:hover:before {color: black;}#sk-container-id-2 div.sk-estimator:hover label.sk-toggleable__label-arrow:before {color: black;}#sk-container-id-2 div.sk-toggleable__content {max-height: 0;max-width: 0;overflow: hidden;text-align: left;background-color: #f0f8ff;}#sk-container-id-2 div.sk-toggleable__content pre {margin: 0.2em;color: black;border-radius: 0.25em;background-color: #f0f8ff;}#sk-container-id-2 input.sk-toggleable__control:checked~div.sk-toggleable__content {max-height: 200px;max-width: 100%;overflow: auto;}#sk-container-id-2 input.sk-toggleable__control:checked~label.sk-toggleable__label-arrow:before {content: \"▾\";}#sk-container-id-2 div.sk-estimator input.sk-toggleable__control:checked~label.sk-toggleable__label {background-color: #d4ebff;}#sk-container-id-2 div.sk-label input.sk-toggleable__control:checked~label.sk-toggleable__label {background-color: #d4ebff;}#sk-container-id-2 input.sk-hidden--visually {border: 0;clip: rect(1px 1px 1px 1px);clip: rect(1px, 1px, 1px, 1px);height: 1px;margin: -1px;overflow: hidden;padding: 0;position: absolute;width: 1px;}#sk-container-id-2 div.sk-estimator {font-family: monospace;background-color: #f0f8ff;border: 1px dotted black;border-radius: 0.25em;box-sizing: border-box;margin-bottom: 0.5em;}#sk-container-id-2 div.sk-estimator:hover {background-color: #d4ebff;}#sk-container-id-2 div.sk-parallel-item::after {content: \"\";width: 100%;border-bottom: 1px solid gray;flex-grow: 1;}#sk-container-id-2 div.sk-label:hover label.sk-toggleable__label {background-color: #d4ebff;}#sk-container-id-2 div.sk-serial::before {content: \"\";position: absolute;border-left: 1px solid gray;box-sizing: border-box;top: 0;bottom: 0;left: 50%;z-index: 0;}#sk-container-id-2 div.sk-serial {display: flex;flex-direction: column;align-items: center;background-color: white;padding-right: 0.2em;padding-left: 0.2em;position: relative;}#sk-container-id-2 div.sk-item {position: relative;z-index: 1;}#sk-container-id-2 div.sk-parallel {display: flex;align-items: stretch;justify-content: center;background-color: white;position: relative;}#sk-container-id-2 div.sk-item::before, #sk-container-id-2 div.sk-parallel-item::before {content: \"\";position: absolute;border-left: 1px solid gray;box-sizing: border-box;top: 0;bottom: 0;left: 50%;z-index: -1;}#sk-container-id-2 div.sk-parallel-item {display: flex;flex-direction: column;z-index: 1;position: relative;background-color: white;}#sk-container-id-2 div.sk-parallel-item:first-child::after {align-self: flex-end;width: 50%;}#sk-container-id-2 div.sk-parallel-item:last-child::after {align-self: flex-start;width: 50%;}#sk-container-id-2 div.sk-parallel-item:only-child::after {width: 0;}#sk-container-id-2 div.sk-dashed-wrapped {border: 1px dashed gray;margin: 0 0.4em 0.5em 0.4em;box-sizing: border-box;padding-bottom: 0.4em;background-color: white;}#sk-container-id-2 div.sk-label label {font-family: monospace;font-weight: bold;display: inline-block;line-height: 1.2em;}#sk-container-id-2 div.sk-label-container {text-align: center;}#sk-container-id-2 div.sk-container {/* jupyter's `normalize.less` sets `[hidden] { display: none; }` but bootstrap.min.css set `[hidden] { display: none !important; }` so we also need the `!important` here to be able to override the default hidden behavior on the sphinx rendered scikit-learn.org. See: https://github.com/scikit-learn/scikit-learn/issues/21755 */display: inline-block !important;position: relative;}#sk-container-id-2 div.sk-text-repr-fallback {display: none;}</style><div id=\"sk-container-id-2\" class=\"sk-top-container\"><div class=\"sk-text-repr-fallback\"><pre>SimpleImputer()</pre><b>In a Jupyter environment, please rerun this cell to show the HTML representation or trust the notebook. <br />On GitHub, the HTML representation is unable to render, please try loading this page with nbviewer.org.</b></div><div class=\"sk-container\" hidden><div class=\"sk-item\"><div class=\"sk-estimator sk-toggleable\"><input class=\"sk-toggleable__control sk-hidden--visually\" id=\"sk-estimator-id-2\" type=\"checkbox\" checked><label for=\"sk-estimator-id-2\" class=\"sk-toggleable__label sk-toggleable__label-arrow\">SimpleImputer</label><div class=\"sk-toggleable__content\"><pre>SimpleImputer()</pre></div></div></div></div></div>"
            ]
          },
          "metadata": {},
          "execution_count": 21
        }
      ],
      "source": [
        "imputer = imputer.fit(dataset[['rating', 'no_of_reviews']])\n",
        "imputer"
      ]
    },
    {
      "cell_type": "code",
      "execution_count": 22,
      "metadata": {
        "colab": {
          "base_uri": "https://localhost:8080/"
        },
        "id": "VRRgnMy9s6t7",
        "outputId": "9482d2d2-caf9-4121-ba7c-37cab29338bf",
        "vscode": {
          "languageId": "python"
        }
      },
      "outputs": [
        {
          "output_type": "execute_result",
          "data": {
            "text/plain": [
              "drug_name                           0\n",
              "medical_condition                   0\n",
              "side_effects                      124\n",
              "generic_name                       43\n",
              "drug_classes                       82\n",
              "brand_names                      1213\n",
              "activity                            0\n",
              "rx_otc                              1\n",
              "pregnancy_category                229\n",
              "csa                                 0\n",
              "alcohol                          1554\n",
              "related_drugs                    1469\n",
              "medical_condition_description       0\n",
              "rating                              0\n",
              "no_of_reviews                       0\n",
              "drug_link                           0\n",
              "medical_condition_url               0\n",
              "dtype: int64"
            ]
          },
          "metadata": {},
          "execution_count": 22
        }
      ],
      "source": [
        "dataset[['rating', 'no_of_reviews']] = imputer.transform(dataset[['rating', 'no_of_reviews']])\n",
        "dataset.isnull().sum()"
      ]
    },
    {
      "cell_type": "markdown",
      "metadata": {
        "id": "akm-xmRdphDb"
      },
      "source": [
        "Using drop column tohandle missing value on categorical or object data"
      ]
    },
    {
      "cell_type": "code",
      "execution_count": 23,
      "metadata": {
        "colab": {
          "base_uri": "https://localhost:8080/"
        },
        "id": "APXYNKqq0J3k",
        "outputId": "951b91f6-348b-40ab-faa2-5d524caf4cbb",
        "vscode": {
          "languageId": "python"
        }
      },
      "outputs": [
        {
          "output_type": "execute_result",
          "data": {
            "text/plain": [
              "drug_name                        0\n",
              "medical_condition                0\n",
              "activity                         0\n",
              "csa                              0\n",
              "medical_condition_description    0\n",
              "rating                           0\n",
              "no_of_reviews                    0\n",
              "drug_link                        0\n",
              "medical_condition_url            0\n",
              "dtype: int64"
            ]
          },
          "metadata": {},
          "execution_count": 23
        }
      ],
      "source": [
        "dataset = dataset.dropna(axis=1)\n",
        "dataset.isnull().sum()"
      ]
    },
    {
      "cell_type": "markdown",
      "metadata": {
        "id": "hqbUmlrTqsed"
      },
      "source": [
        "drop datetime column since we don't need it, we will use it in the next lecure for forecasting time series data"
      ]
    },
    {
      "cell_type": "code",
      "execution_count": 24,
      "metadata": {
        "colab": {
          "base_uri": "https://localhost:8080/",
          "height": 423
        },
        "id": "1xT6ljMtq4sU",
        "outputId": "e0329396-e6d5-4db8-fa71-200e1e230982",
        "vscode": {
          "languageId": "python"
        }
      },
      "outputs": [
        {
          "output_type": "execute_result",
          "data": {
            "text/plain": [
              "           drug_name medical_condition activity csa    rating  no_of_reviews  \\\n",
              "0        doxycycline              Acne      87%   N  6.800000     760.000000   \n",
              "1     spironolactone              Acne      82%   N  7.200000     449.000000   \n",
              "2        minocycline              Acne      48%   N  5.700000     482.000000   \n",
              "3           Accutane              Acne      41%   N  7.900000     623.000000   \n",
              "4        clindamycin              Acne      39%   N  7.400000     146.000000   \n",
              "...              ...               ...      ...  ..       ...            ...   \n",
              "2926   benzphetamine       Weight Loss       2%   3  7.500000      17.000000   \n",
              "2927    fenfluramine       Weight Loss       1%   4  6.812926      75.064943   \n",
              "2928     Fendique ER       Weight Loss       0%   3  6.812926      75.064943   \n",
              "2929        Imcivree       Weight Loss       0%   N  6.812926      75.064943   \n",
              "2930   setmelanotide       Weight Loss       0%   N  6.812926      75.064943   \n",
              "\n",
              "                                              drug_link  \\\n",
              "0                https://www.drugs.com/doxycycline.html   \n",
              "1             https://www.drugs.com/spironolactone.html   \n",
              "2                https://www.drugs.com/minocycline.html   \n",
              "3                   https://www.drugs.com/accutane.html   \n",
              "4     https://www.drugs.com/mtm/clindamycin-topical....   \n",
              "...                                                 ...   \n",
              "2926       https://www.drugs.com/mtm/benzphetamine.html   \n",
              "2927        https://www.drugs.com/mtm/fenfluramine.html   \n",
              "2928         https://www.drugs.com/pro/fendique-er.html   \n",
              "2929                https://www.drugs.com/imcivree.html   \n",
              "2930       https://www.drugs.com/mtm/setmelanotide.html   \n",
              "\n",
              "                             medical_condition_url  \n",
              "0        https://www.drugs.com/condition/acne.html  \n",
              "1        https://www.drugs.com/condition/acne.html  \n",
              "2        https://www.drugs.com/condition/acne.html  \n",
              "3        https://www.drugs.com/condition/acne.html  \n",
              "4        https://www.drugs.com/condition/acne.html  \n",
              "...                                            ...  \n",
              "2926  https://www.drugs.com/condition/obesity.html  \n",
              "2927  https://www.drugs.com/condition/obesity.html  \n",
              "2928  https://www.drugs.com/condition/obesity.html  \n",
              "2929  https://www.drugs.com/condition/obesity.html  \n",
              "2930  https://www.drugs.com/condition/obesity.html  \n",
              "\n",
              "[2931 rows x 8 columns]"
            ],
            "text/html": [
              "\n",
              "  <div id=\"df-586c1b6c-b4e2-4386-b1d5-7c334145eb50\">\n",
              "    <div class=\"colab-df-container\">\n",
              "      <div>\n",
              "<style scoped>\n",
              "    .dataframe tbody tr th:only-of-type {\n",
              "        vertical-align: middle;\n",
              "    }\n",
              "\n",
              "    .dataframe tbody tr th {\n",
              "        vertical-align: top;\n",
              "    }\n",
              "\n",
              "    .dataframe thead th {\n",
              "        text-align: right;\n",
              "    }\n",
              "</style>\n",
              "<table border=\"1\" class=\"dataframe\">\n",
              "  <thead>\n",
              "    <tr style=\"text-align: right;\">\n",
              "      <th></th>\n",
              "      <th>drug_name</th>\n",
              "      <th>medical_condition</th>\n",
              "      <th>activity</th>\n",
              "      <th>csa</th>\n",
              "      <th>rating</th>\n",
              "      <th>no_of_reviews</th>\n",
              "      <th>drug_link</th>\n",
              "      <th>medical_condition_url</th>\n",
              "    </tr>\n",
              "  </thead>\n",
              "  <tbody>\n",
              "    <tr>\n",
              "      <th>0</th>\n",
              "      <td>doxycycline</td>\n",
              "      <td>Acne</td>\n",
              "      <td>87%</td>\n",
              "      <td>N</td>\n",
              "      <td>6.800000</td>\n",
              "      <td>760.000000</td>\n",
              "      <td>https://www.drugs.com/doxycycline.html</td>\n",
              "      <td>https://www.drugs.com/condition/acne.html</td>\n",
              "    </tr>\n",
              "    <tr>\n",
              "      <th>1</th>\n",
              "      <td>spironolactone</td>\n",
              "      <td>Acne</td>\n",
              "      <td>82%</td>\n",
              "      <td>N</td>\n",
              "      <td>7.200000</td>\n",
              "      <td>449.000000</td>\n",
              "      <td>https://www.drugs.com/spironolactone.html</td>\n",
              "      <td>https://www.drugs.com/condition/acne.html</td>\n",
              "    </tr>\n",
              "    <tr>\n",
              "      <th>2</th>\n",
              "      <td>minocycline</td>\n",
              "      <td>Acne</td>\n",
              "      <td>48%</td>\n",
              "      <td>N</td>\n",
              "      <td>5.700000</td>\n",
              "      <td>482.000000</td>\n",
              "      <td>https://www.drugs.com/minocycline.html</td>\n",
              "      <td>https://www.drugs.com/condition/acne.html</td>\n",
              "    </tr>\n",
              "    <tr>\n",
              "      <th>3</th>\n",
              "      <td>Accutane</td>\n",
              "      <td>Acne</td>\n",
              "      <td>41%</td>\n",
              "      <td>N</td>\n",
              "      <td>7.900000</td>\n",
              "      <td>623.000000</td>\n",
              "      <td>https://www.drugs.com/accutane.html</td>\n",
              "      <td>https://www.drugs.com/condition/acne.html</td>\n",
              "    </tr>\n",
              "    <tr>\n",
              "      <th>4</th>\n",
              "      <td>clindamycin</td>\n",
              "      <td>Acne</td>\n",
              "      <td>39%</td>\n",
              "      <td>N</td>\n",
              "      <td>7.400000</td>\n",
              "      <td>146.000000</td>\n",
              "      <td>https://www.drugs.com/mtm/clindamycin-topical....</td>\n",
              "      <td>https://www.drugs.com/condition/acne.html</td>\n",
              "    </tr>\n",
              "    <tr>\n",
              "      <th>...</th>\n",
              "      <td>...</td>\n",
              "      <td>...</td>\n",
              "      <td>...</td>\n",
              "      <td>...</td>\n",
              "      <td>...</td>\n",
              "      <td>...</td>\n",
              "      <td>...</td>\n",
              "      <td>...</td>\n",
              "    </tr>\n",
              "    <tr>\n",
              "      <th>2926</th>\n",
              "      <td>benzphetamine</td>\n",
              "      <td>Weight Loss</td>\n",
              "      <td>2%</td>\n",
              "      <td>3</td>\n",
              "      <td>7.500000</td>\n",
              "      <td>17.000000</td>\n",
              "      <td>https://www.drugs.com/mtm/benzphetamine.html</td>\n",
              "      <td>https://www.drugs.com/condition/obesity.html</td>\n",
              "    </tr>\n",
              "    <tr>\n",
              "      <th>2927</th>\n",
              "      <td>fenfluramine</td>\n",
              "      <td>Weight Loss</td>\n",
              "      <td>1%</td>\n",
              "      <td>4</td>\n",
              "      <td>6.812926</td>\n",
              "      <td>75.064943</td>\n",
              "      <td>https://www.drugs.com/mtm/fenfluramine.html</td>\n",
              "      <td>https://www.drugs.com/condition/obesity.html</td>\n",
              "    </tr>\n",
              "    <tr>\n",
              "      <th>2928</th>\n",
              "      <td>Fendique ER</td>\n",
              "      <td>Weight Loss</td>\n",
              "      <td>0%</td>\n",
              "      <td>3</td>\n",
              "      <td>6.812926</td>\n",
              "      <td>75.064943</td>\n",
              "      <td>https://www.drugs.com/pro/fendique-er.html</td>\n",
              "      <td>https://www.drugs.com/condition/obesity.html</td>\n",
              "    </tr>\n",
              "    <tr>\n",
              "      <th>2929</th>\n",
              "      <td>Imcivree</td>\n",
              "      <td>Weight Loss</td>\n",
              "      <td>0%</td>\n",
              "      <td>N</td>\n",
              "      <td>6.812926</td>\n",
              "      <td>75.064943</td>\n",
              "      <td>https://www.drugs.com/imcivree.html</td>\n",
              "      <td>https://www.drugs.com/condition/obesity.html</td>\n",
              "    </tr>\n",
              "    <tr>\n",
              "      <th>2930</th>\n",
              "      <td>setmelanotide</td>\n",
              "      <td>Weight Loss</td>\n",
              "      <td>0%</td>\n",
              "      <td>N</td>\n",
              "      <td>6.812926</td>\n",
              "      <td>75.064943</td>\n",
              "      <td>https://www.drugs.com/mtm/setmelanotide.html</td>\n",
              "      <td>https://www.drugs.com/condition/obesity.html</td>\n",
              "    </tr>\n",
              "  </tbody>\n",
              "</table>\n",
              "<p>2931 rows × 8 columns</p>\n",
              "</div>\n",
              "      <button class=\"colab-df-convert\" onclick=\"convertToInteractive('df-586c1b6c-b4e2-4386-b1d5-7c334145eb50')\"\n",
              "              title=\"Convert this dataframe to an interactive table.\"\n",
              "              style=\"display:none;\">\n",
              "        \n",
              "  <svg xmlns=\"http://www.w3.org/2000/svg\" height=\"24px\"viewBox=\"0 0 24 24\"\n",
              "       width=\"24px\">\n",
              "    <path d=\"M0 0h24v24H0V0z\" fill=\"none\"/>\n",
              "    <path d=\"M18.56 5.44l.94 2.06.94-2.06 2.06-.94-2.06-.94-.94-2.06-.94 2.06-2.06.94zm-11 1L8.5 8.5l.94-2.06 2.06-.94-2.06-.94L8.5 2.5l-.94 2.06-2.06.94zm10 10l.94 2.06.94-2.06 2.06-.94-2.06-.94-.94-2.06-.94 2.06-2.06.94z\"/><path d=\"M17.41 7.96l-1.37-1.37c-.4-.4-.92-.59-1.43-.59-.52 0-1.04.2-1.43.59L10.3 9.45l-7.72 7.72c-.78.78-.78 2.05 0 2.83L4 21.41c.39.39.9.59 1.41.59.51 0 1.02-.2 1.41-.59l7.78-7.78 2.81-2.81c.8-.78.8-2.07 0-2.86zM5.41 20L4 18.59l7.72-7.72 1.47 1.35L5.41 20z\"/>\n",
              "  </svg>\n",
              "      </button>\n",
              "      \n",
              "  <style>\n",
              "    .colab-df-container {\n",
              "      display:flex;\n",
              "      flex-wrap:wrap;\n",
              "      gap: 12px;\n",
              "    }\n",
              "\n",
              "    .colab-df-convert {\n",
              "      background-color: #E8F0FE;\n",
              "      border: none;\n",
              "      border-radius: 50%;\n",
              "      cursor: pointer;\n",
              "      display: none;\n",
              "      fill: #1967D2;\n",
              "      height: 32px;\n",
              "      padding: 0 0 0 0;\n",
              "      width: 32px;\n",
              "    }\n",
              "\n",
              "    .colab-df-convert:hover {\n",
              "      background-color: #E2EBFA;\n",
              "      box-shadow: 0px 1px 2px rgba(60, 64, 67, 0.3), 0px 1px 3px 1px rgba(60, 64, 67, 0.15);\n",
              "      fill: #174EA6;\n",
              "    }\n",
              "\n",
              "    [theme=dark] .colab-df-convert {\n",
              "      background-color: #3B4455;\n",
              "      fill: #D2E3FC;\n",
              "    }\n",
              "\n",
              "    [theme=dark] .colab-df-convert:hover {\n",
              "      background-color: #434B5C;\n",
              "      box-shadow: 0px 1px 3px 1px rgba(0, 0, 0, 0.15);\n",
              "      filter: drop-shadow(0px 1px 2px rgba(0, 0, 0, 0.3));\n",
              "      fill: #FFFFFF;\n",
              "    }\n",
              "  </style>\n",
              "\n",
              "      <script>\n",
              "        const buttonEl =\n",
              "          document.querySelector('#df-586c1b6c-b4e2-4386-b1d5-7c334145eb50 button.colab-df-convert');\n",
              "        buttonEl.style.display =\n",
              "          google.colab.kernel.accessAllowed ? 'block' : 'none';\n",
              "\n",
              "        async function convertToInteractive(key) {\n",
              "          const element = document.querySelector('#df-586c1b6c-b4e2-4386-b1d5-7c334145eb50');\n",
              "          const dataTable =\n",
              "            await google.colab.kernel.invokeFunction('convertToInteractive',\n",
              "                                                     [key], {});\n",
              "          if (!dataTable) return;\n",
              "\n",
              "          const docLinkHtml = 'Like what you see? Visit the ' +\n",
              "            '<a target=\"_blank\" href=https://colab.research.google.com/notebooks/data_table.ipynb>data table notebook</a>'\n",
              "            + ' to learn more about interactive tables.';\n",
              "          element.innerHTML = '';\n",
              "          dataTable['output_type'] = 'display_data';\n",
              "          await google.colab.output.renderOutput(dataTable, element);\n",
              "          const docLink = document.createElement('div');\n",
              "          docLink.innerHTML = docLinkHtml;\n",
              "          element.appendChild(docLink);\n",
              "        }\n",
              "      </script>\n",
              "    </div>\n",
              "  </div>\n",
              "  "
            ]
          },
          "metadata": {},
          "execution_count": 24
        }
      ],
      "source": [
        "dataset = dataset.drop('medical_condition_description', axis=1)\n",
        "dataset"
      ]
    },
    {
      "cell_type": "markdown",
      "metadata": {
        "id": "ENPm1cm20MRH"
      },
      "source": [
        "## 3. Data Visualization"
      ]
    },
    {
      "cell_type": "markdown",
      "metadata": {
        "id": "Kmt5tnjKb_Th"
      },
      "source": [
        "**Eploratory Data Analysis (EDA)**"
      ]
    },
    {
      "cell_type": "markdown",
      "metadata": {
        "id": "_sXK6PePvNOv"
      },
      "source": [
        "we will not use exploratory data analysis like in the previous class, we'll take another apporach to visualize data"
      ]
    },
    {
      "cell_type": "markdown",
      "metadata": {
        "id": "FZB03O6btxDd"
      },
      "source": [
        "**3.1 Check Outliers**\n",
        "\n",
        "Outliers are values at the extreme ends of a dataset.\n",
        "\n",
        "Some outliers represent true values from natural variation in the population. Other outliers may result from incorrect data entry, equipment malfunctions, or other measurement errors.\n",
        "\n",
        "An outlier isn’t always a form of dirty or incorrect data, so you have to be careful with them in data cleansing. What you should do with an outlier depends on its most likely cause.\n",
        "\n",
        "for more info: https://www.scribbr.com/statistics/outliers/"
      ]
    },
    {
      "cell_type": "markdown",
      "source": [
        "To generate descriptive statistical summaries of each column in a dataset, you can use the following syntax:"
      ],
      "metadata": {
        "id": "qBZkYEH65vuL"
      }
    },
    {
      "cell_type": "code",
      "execution_count": 25,
      "metadata": {
        "colab": {
          "base_uri": "https://localhost:8080/",
          "height": 300
        },
        "id": "0V45x0tn28_2",
        "outputId": "1869bbb7-1bf0-41a9-9e0e-dfe0fe9ddd82",
        "vscode": {
          "languageId": "python"
        }
      },
      "outputs": [
        {
          "output_type": "execute_result",
          "data": {
            "text/plain": [
              "            rating  no_of_reviews\n",
              "count  2931.000000    2931.000000\n",
              "mean      6.812926      75.064943\n",
              "std       1.701237     135.993992\n",
              "min       0.000000       1.000000\n",
              "25%       6.800000      10.000000\n",
              "50%       6.812926      75.064943\n",
              "75%       7.300000      75.064943\n",
              "max      10.000000    2934.000000"
            ],
            "text/html": [
              "\n",
              "  <div id=\"df-37ea5118-37c3-4368-bb9a-6e41317b0ea7\">\n",
              "    <div class=\"colab-df-container\">\n",
              "      <div>\n",
              "<style scoped>\n",
              "    .dataframe tbody tr th:only-of-type {\n",
              "        vertical-align: middle;\n",
              "    }\n",
              "\n",
              "    .dataframe tbody tr th {\n",
              "        vertical-align: top;\n",
              "    }\n",
              "\n",
              "    .dataframe thead th {\n",
              "        text-align: right;\n",
              "    }\n",
              "</style>\n",
              "<table border=\"1\" class=\"dataframe\">\n",
              "  <thead>\n",
              "    <tr style=\"text-align: right;\">\n",
              "      <th></th>\n",
              "      <th>rating</th>\n",
              "      <th>no_of_reviews</th>\n",
              "    </tr>\n",
              "  </thead>\n",
              "  <tbody>\n",
              "    <tr>\n",
              "      <th>count</th>\n",
              "      <td>2931.000000</td>\n",
              "      <td>2931.000000</td>\n",
              "    </tr>\n",
              "    <tr>\n",
              "      <th>mean</th>\n",
              "      <td>6.812926</td>\n",
              "      <td>75.064943</td>\n",
              "    </tr>\n",
              "    <tr>\n",
              "      <th>std</th>\n",
              "      <td>1.701237</td>\n",
              "      <td>135.993992</td>\n",
              "    </tr>\n",
              "    <tr>\n",
              "      <th>min</th>\n",
              "      <td>0.000000</td>\n",
              "      <td>1.000000</td>\n",
              "    </tr>\n",
              "    <tr>\n",
              "      <th>25%</th>\n",
              "      <td>6.800000</td>\n",
              "      <td>10.000000</td>\n",
              "    </tr>\n",
              "    <tr>\n",
              "      <th>50%</th>\n",
              "      <td>6.812926</td>\n",
              "      <td>75.064943</td>\n",
              "    </tr>\n",
              "    <tr>\n",
              "      <th>75%</th>\n",
              "      <td>7.300000</td>\n",
              "      <td>75.064943</td>\n",
              "    </tr>\n",
              "    <tr>\n",
              "      <th>max</th>\n",
              "      <td>10.000000</td>\n",
              "      <td>2934.000000</td>\n",
              "    </tr>\n",
              "  </tbody>\n",
              "</table>\n",
              "</div>\n",
              "      <button class=\"colab-df-convert\" onclick=\"convertToInteractive('df-37ea5118-37c3-4368-bb9a-6e41317b0ea7')\"\n",
              "              title=\"Convert this dataframe to an interactive table.\"\n",
              "              style=\"display:none;\">\n",
              "        \n",
              "  <svg xmlns=\"http://www.w3.org/2000/svg\" height=\"24px\"viewBox=\"0 0 24 24\"\n",
              "       width=\"24px\">\n",
              "    <path d=\"M0 0h24v24H0V0z\" fill=\"none\"/>\n",
              "    <path d=\"M18.56 5.44l.94 2.06.94-2.06 2.06-.94-2.06-.94-.94-2.06-.94 2.06-2.06.94zm-11 1L8.5 8.5l.94-2.06 2.06-.94-2.06-.94L8.5 2.5l-.94 2.06-2.06.94zm10 10l.94 2.06.94-2.06 2.06-.94-2.06-.94-.94-2.06-.94 2.06-2.06.94z\"/><path d=\"M17.41 7.96l-1.37-1.37c-.4-.4-.92-.59-1.43-.59-.52 0-1.04.2-1.43.59L10.3 9.45l-7.72 7.72c-.78.78-.78 2.05 0 2.83L4 21.41c.39.39.9.59 1.41.59.51 0 1.02-.2 1.41-.59l7.78-7.78 2.81-2.81c.8-.78.8-2.07 0-2.86zM5.41 20L4 18.59l7.72-7.72 1.47 1.35L5.41 20z\"/>\n",
              "  </svg>\n",
              "      </button>\n",
              "      \n",
              "  <style>\n",
              "    .colab-df-container {\n",
              "      display:flex;\n",
              "      flex-wrap:wrap;\n",
              "      gap: 12px;\n",
              "    }\n",
              "\n",
              "    .colab-df-convert {\n",
              "      background-color: #E8F0FE;\n",
              "      border: none;\n",
              "      border-radius: 50%;\n",
              "      cursor: pointer;\n",
              "      display: none;\n",
              "      fill: #1967D2;\n",
              "      height: 32px;\n",
              "      padding: 0 0 0 0;\n",
              "      width: 32px;\n",
              "    }\n",
              "\n",
              "    .colab-df-convert:hover {\n",
              "      background-color: #E2EBFA;\n",
              "      box-shadow: 0px 1px 2px rgba(60, 64, 67, 0.3), 0px 1px 3px 1px rgba(60, 64, 67, 0.15);\n",
              "      fill: #174EA6;\n",
              "    }\n",
              "\n",
              "    [theme=dark] .colab-df-convert {\n",
              "      background-color: #3B4455;\n",
              "      fill: #D2E3FC;\n",
              "    }\n",
              "\n",
              "    [theme=dark] .colab-df-convert:hover {\n",
              "      background-color: #434B5C;\n",
              "      box-shadow: 0px 1px 3px 1px rgba(0, 0, 0, 0.15);\n",
              "      filter: drop-shadow(0px 1px 2px rgba(0, 0, 0, 0.3));\n",
              "      fill: #FFFFFF;\n",
              "    }\n",
              "  </style>\n",
              "\n",
              "      <script>\n",
              "        const buttonEl =\n",
              "          document.querySelector('#df-37ea5118-37c3-4368-bb9a-6e41317b0ea7 button.colab-df-convert');\n",
              "        buttonEl.style.display =\n",
              "          google.colab.kernel.accessAllowed ? 'block' : 'none';\n",
              "\n",
              "        async function convertToInteractive(key) {\n",
              "          const element = document.querySelector('#df-37ea5118-37c3-4368-bb9a-6e41317b0ea7');\n",
              "          const dataTable =\n",
              "            await google.colab.kernel.invokeFunction('convertToInteractive',\n",
              "                                                     [key], {});\n",
              "          if (!dataTable) return;\n",
              "\n",
              "          const docLinkHtml = 'Like what you see? Visit the ' +\n",
              "            '<a target=\"_blank\" href=https://colab.research.google.com/notebooks/data_table.ipynb>data table notebook</a>'\n",
              "            + ' to learn more about interactive tables.';\n",
              "          element.innerHTML = '';\n",
              "          dataTable['output_type'] = 'display_data';\n",
              "          await google.colab.output.renderOutput(dataTable, element);\n",
              "          const docLink = document.createElement('div');\n",
              "          docLink.innerHTML = docLinkHtml;\n",
              "          element.appendChild(docLink);\n",
              "        }\n",
              "      </script>\n",
              "    </div>\n",
              "  </div>\n",
              "  "
            ]
          },
          "metadata": {},
          "execution_count": 25
        }
      ],
      "source": [
        "dataset.describe()"
      ]
    },
    {
      "cell_type": "markdown",
      "source": [
        "Use this syntax to make data visualization"
      ],
      "metadata": {
        "id": "2T61XVNT57a9"
      }
    },
    {
      "cell_type": "code",
      "execution_count": 26,
      "metadata": {
        "colab": {
          "base_uri": "https://localhost:8080/",
          "height": 448
        },
        "id": "hVyPVG8wv4Rd",
        "outputId": "845c38ee-7566-44a3-bfe6-ced4cb7607ca",
        "vscode": {
          "languageId": "python"
        }
      },
      "outputs": [
        {
          "output_type": "execute_result",
          "data": {
            "text/plain": [
              "<Axes: >"
            ]
          },
          "metadata": {},
          "execution_count": 26
        },
        {
          "output_type": "display_data",
          "data": {
            "text/plain": [
              "<Figure size 640x480 with 1 Axes>"
            ],
            "image/png": "[encoded data removed]"
          },
          "metadata": {}
        }
      ],
      "source": [
        "import matplotlib.pyplot as plt\n",
        "%matplotlib inline\n",
        "dataset.plot()"
      ]
    },
    {
      "cell_type": "markdown",
      "source": [
        "Use this following syntax to create a box plot of the datasets"
      ],
      "metadata": {
        "id": "VSKggj3d7Mw5"
      }
    },
    {
      "cell_type": "code",
      "execution_count": 27,
      "metadata": {
        "colab": {
          "base_uri": "https://localhost:8080/",
          "height": 689
        },
        "id": "Sg0KQswrw-aG",
        "outputId": "214eea5c-7401-4887-e766-16b033a96f88",
        "vscode": {
          "languageId": "python"
        }
      },
      "outputs": [
        {
          "output_type": "display_data",
          "data": {
            "text/plain": [
              "<Figure size 1100x800 with 1 Axes>"
            ],
            "image/png": "[encoded data removed]"
          },
          "metadata": {}
        }
      ],
      "source": [
        "import seaborn as sns\n",
        "%matplotlib inline\n",
        "\n",
        "sns.set(rc={'figure.figsize':(11,8)}, font_scale=1.5, style='whitegrid')\n",
        "\n",
        "# tips = sns.load_dataset(dataset)\n",
        "sns.boxplot(data=dataset, orient=\"h\");"
      ]
    },
    {
      "cell_type": "markdown",
      "source": [
        "Use the following syntax to create a scatter plot then replace the dataset and axis labels with rating and no_of_reviews values"
      ],
      "metadata": {
        "id": "_si2T_S-8BG0"
      }
    },
    {
      "cell_type": "code",
      "execution_count": 28,
      "metadata": {
        "colab": {
          "base_uri": "https://localhost:8080/",
          "height": 642
        },
        "id": "QF-Yo7Mc1BJH",
        "outputId": "c6022b02-3aed-4ee5-cda0-190266d6129e",
        "vscode": {
          "languageId": "python"
        }
      },
      "outputs": [
        {
          "output_type": "display_data",
          "data": {
            "text/plain": [
              "<Figure size 1500x700 with 1 Axes>"
            ],
            "image/png": "[encoded data removed]"
          },
          "metadata": {}
        }
      ],
      "source": [
        "# Scatter plot\n",
        "fig, ax = plt.subplots(figsize = (15,7))\n",
        "ax.scatter(dataset['rating'], dataset['no_of_reviews'])\n",
        " \n",
        "# x-axis label\n",
        "ax.set_xlabel('no_of_reviews')\n",
        " \n",
        "# y-axis label\n",
        "ax.set_ylabel('rating')\n",
        "plt.show()"
      ]
    },
    {
      "cell_type": "markdown",
      "metadata": {
        "id": "QNqE47dr2hr4"
      },
      "source": [
        "**Removing the outliers using IQR**\n",
        "\n",
        "**IQR (Inter Quartile Range)**\n",
        "\n",
        "IQR = Quartile3 – Quartile1\n",
        "\n",
        "Quartile description: https://rumusbilangan.com/rumus-kuartil/\n"
      ]
    },
    {
      "cell_type": "markdown",
      "metadata": {
        "id": "5m0lhYyq3Xn7"
      },
      "source": [
        "IQR is interpolation method to remove outliers\n",
        "\n",
        "To define the outlier base value is defined above and below datasets normal range namely Upper and Lower bounds, define the upper and the lower bound (1.5*IQR value is considered) :\n",
        "\n",
        "upper = Q3 +1.5*IQR\n",
        "\n",
        "lower = Q1 – 1.5*IQR\n",
        "\n",
        "how to calculate IQR:\n",
        "\n",
        "https://www.timesmojo.com/what-is-the-15-iqr-rule/\n",
        "\n",
        "https://www.geeksforgeeks.org/detect-and-remove-the-outliers-using-python/\n",
        "\n",
        "In the above formula as according to statistics, the 0.5 scale-up of IQR (new_IQR = IQR + 0.5*IQR) is taken, to consider all the data between 2.7 standard deviations in the Gaussian Distribution."
      ]
    },
    {
      "cell_type": "markdown",
      "source": [
        "Use the syntax to calculate the interquartile range (IQR) of column 'no_of_reviews' in the dataset"
      ],
      "metadata": {
        "id": "mBv6ojb88--7"
      }
    },
    {
      "cell_type": "code",
      "execution_count": 29,
      "metadata": {
        "colab": {
          "base_uri": "https://localhost:8080/"
        },
        "id": "jL9XfyUY6L58",
        "outputId": "25804c66-ad85-4008-cb50-644376fbeb9f",
        "vscode": {
          "languageId": "python"
        }
      },
      "outputs": [
        {
          "output_type": "stream",
          "name": "stdout",
          "text": [
            "Old Shape:  (2931, 8)\n"
          ]
        }
      ],
      "source": [
        "import sklearn\n",
        "\n",
        "# IQR Price\n",
        "Q1 = np.percentile(dataset['no_of_reviews'], 25,\n",
        "                   method = 'midpoint')\n",
        " \n",
        "Q3 = np.percentile(dataset['no_of_reviews'], 75,\n",
        "                   method = 'midpoint')\n",
        "IQR = Q3 - Q1\n",
        " \n",
        "print(\"Old Shape: \", dataset.shape)"
      ]
    },
    {
      "cell_type": "markdown",
      "source": [
        "To identify any outliers in the 'Number of Employees' column of the dataset and remove them to create a new modified data set, use the following syntax:"
      ],
      "metadata": {
        "id": "IwwdgovoaJov"
      }
    },
    {
      "cell_type": "code",
      "execution_count": 30,
      "metadata": {
        "colab": {
          "base_uri": "https://localhost:8080/"
        },
        "id": "WIZyhdHL6orp",
        "outputId": "cb2be86f-2563-4421-8e96-dc0771fed40b",
        "vscode": {
          "languageId": "python"
        }
      },
      "outputs": [
        {
          "output_type": "stream",
          "name": "stdout",
          "text": [
            "New Shape:  (2753, 8)\n"
          ]
        }
      ],
      "source": [
        "# Upper bound\n",
        "upper = Q3 + 1.5 * IQR\n",
        "\n",
        "# Lower bound\n",
        "lower = Q1 - 1.5 * IQR\n",
        "\n",
        "# Finding the indices of the outliers\n",
        "outliers_upper = dataset[dataset['no_of_reviews'] > upper].index\n",
        "outliers_lower = dataset[dataset['no_of_reviews'] < lower].index\n",
        "\n",
        "# Concatenate the indices of the outliers\n",
        "outliers = outliers_upper.append(outliers_lower)\n",
        "\n",
        "# Removing the outliers\n",
        "dataset.drop(outliers, inplace=True)\n",
        "\n",
        "print(\"New Shape: \", dataset.shape)\n"
      ]
    },
    {
      "cell_type": "markdown",
      "source": [
        "To identify any outliers in the 'Net Income in Euro' column of the dataset, you can use the following syntax"
      ],
      "metadata": {
        "id": "R3I-2mKbafAP"
      }
    },
    {
      "cell_type": "code",
      "execution_count": 31,
      "metadata": {
        "colab": {
          "base_uri": "https://localhost:8080/"
        },
        "id": "NV-D28kj63xj",
        "outputId": "29aa1f38-440d-4898-8012-3254cb72eeff",
        "vscode": {
          "languageId": "python"
        }
      },
      "outputs": [
        {
          "output_type": "stream",
          "name": "stdout",
          "text": [
            "Old Shape:  (2753, 8)\n"
          ]
        }
      ],
      "source": [
        "import sklearn\n",
        "\n",
        "# IQR Landsize\n",
        "Q1 = np.percentile(dataset['rating'], 25,\n",
        "                   method = 'midpoint')\n",
        " \n",
        "Q3 = np.percentile(dataset['rating'], 75,\n",
        "                   method = 'midpoint')\n",
        "IQR = Q3 - Q1\n",
        " \n",
        "print(\"Old Shape: \", dataset.shape)"
      ]
    },
    {
      "cell_type": "markdown",
      "source": [
        "To identify any outliers in the 'Net Income in Euro' column of the dataset and remove them to create a new modified data set you can use the following syntax"
      ],
      "metadata": {
        "id": "_9N62vwjait1"
      }
    },
    {
      "cell_type": "code",
      "execution_count": 32,
      "metadata": {
        "colab": {
          "base_uri": "https://localhost:8080/"
        },
        "id": "raHbRnEQ66Ai",
        "outputId": "20e58305-acb7-46d4-ca56-e0d2fb72e6f8",
        "vscode": {
          "languageId": "python"
        }
      },
      "outputs": [
        {
          "output_type": "stream",
          "name": "stdout",
          "text": [
            "New Shape:  (1677, 8)\n"
          ]
        }
      ],
      "source": [
        "# Upper bound\n",
        "upper = Q3 + 1.5 * IQR\n",
        "\n",
        "# Lower bound\n",
        "lower = Q1 - 1.5 * IQR\n",
        "\n",
        "# Finding the indices of the outliers\n",
        "outliers_upper = dataset[dataset['rating'] > upper].index\n",
        "outliers_lower = dataset[dataset['rating'] < lower].index\n",
        "\n",
        "# Concatenate the indices of the outliers\n",
        "outliers = outliers_upper.append(outliers_lower)\n",
        "\n",
        "# Removing the outliers\n",
        "dataset.drop(outliers, inplace=True)\n",
        "\n",
        "print(\"New Shape: \", dataset.shape)\n"
      ]
    },
    {
      "cell_type": "markdown",
      "source": [
        "To import the seaborn library, you can use the following syntax"
      ],
      "metadata": {
        "id": "2-frUeV5apqa"
      }
    },
    {
      "cell_type": "code",
      "execution_count": 33,
      "metadata": {
        "colab": {
          "base_uri": "https://localhost:8080/",
          "height": 689
        },
        "id": "vR-0FpAR4wNE",
        "outputId": "9c63e825-ac47-42b1-a435-ba7be43ddf03",
        "vscode": {
          "languageId": "python"
        }
      },
      "outputs": [
        {
          "output_type": "display_data",
          "data": {
            "text/plain": [
              "<Figure size 1100x800 with 1 Axes>"
            ],
            "image/png": "[encoded data removed]"
          },
          "metadata": {}
        }
      ],
      "source": [
        "import seaborn as sns\n",
        "%matplotlib inline\n",
        "\n",
        "sns.set(rc={'figure.figsize':(11,8)}, font_scale=1.5, style='whitegrid')\n",
        "\n",
        "# tips = sns.load_dataset(dataset)\n",
        "sns.boxplot(data=dataset, orient=\"h\");"
      ]
    },
    {
      "cell_type": "markdown",
      "source": [
        "To display the scatter plot of the dataset column whose outliers have been removed, the following syntax is used"
      ],
      "metadata": {
        "id": "CxarMAhda3g_"
      }
    },
    {
      "cell_type": "code",
      "execution_count": 34,
      "metadata": {
        "colab": {
          "base_uri": "https://localhost:8080/",
          "height": 642
        },
        "id": "kp3nBBsZ8qQm",
        "outputId": "8649bd9d-de03-44b9-9891-497d395f64f5",
        "vscode": {
          "languageId": "python"
        }
      },
      "outputs": [
        {
          "output_type": "display_data",
          "data": {
            "text/plain": [
              "<Figure size 1500x700 with 1 Axes>"
            ],
            "image/png": "[encoded data removed]"
          },
          "metadata": {}
        }
      ],
      "source": [
        "# Scatter plot\n",
        "fig, ax = plt.subplots(figsize = (15,7))\n",
        "ax.scatter(dataset['no_of_reviews'], dataset['rating'])\n",
        " \n",
        "# x-axis label\n",
        "ax.set_xlabel('no_of_reviews')\n",
        " \n",
        "# y-axis label\n",
        "ax.set_ylabel('rating')\n",
        "plt.show()"
      ]
    },
    {
      "cell_type": "markdown",
      "metadata": {
        "id": "LsjkfEScBUoN"
      },
      "source": [
        "Show data distribution based on density (kde - kernel density estimation)"
      ]
    },
    {
      "cell_type": "code",
      "execution_count": 35,
      "metadata": {
        "colab": {
          "base_uri": "https://localhost:8080/",
          "height": 151
        },
        "id": "aiF0oNG7_bPz",
        "outputId": "dda12c31-6b9f-4d17-bffe-2bdf6a28e908",
        "vscode": {
          "languageId": "python"
        }
      },
      "outputs": [
        {
          "output_type": "display_data",
          "data": {
            "text/plain": [
              "<Figure size 1500x1200 with 20 Axes>"
            ],
            "image/png": "[encoded data removed]"
          },
          "metadata": {}
        }
      ],
      "source": [
        "dataset.plot(kind='kde',subplots=True,layout=(10,2),figsize=(15,12), sharex=False)\n",
        "plt.show()"
      ]
    },
    {
      "cell_type": "markdown",
      "metadata": {
        "id": "wLLPYJxoBkJj"
      },
      "source": [
        "Show data distribution based on histogram"
      ]
    },
    {
      "cell_type": "code",
      "execution_count": 36,
      "metadata": {
        "colab": {
          "base_uri": "https://localhost:8080/",
          "height": 151
        },
        "id": "oGUJFv6oj_Ub",
        "outputId": "cb49d0ac-bc83-4d62-ae2c-64152a7dc11d",
        "vscode": {
          "languageId": "python"
        }
      },
      "outputs": [
        {
          "output_type": "display_data",
          "data": {
            "text/plain": [
              "<Figure size 1500x1200 with 20 Axes>"
            ],
            "image/png": "[encoded data removed]"
          },
          "metadata": {}
        }
      ],
      "source": [
        "dataset.plot(kind='hist',subplots=True,layout=(10,2),figsize=(15,12), sharex=False)\n",
        "plt.show()"
      ]
    },
    {
      "cell_type": "code",
      "execution_count": 37,
      "metadata": {
        "colab": {
          "base_uri": "https://localhost:8080/",
          "height": 151
        },
        "id": "MGk91iI0kZ_3",
        "outputId": "b75b979b-f97a-47a3-8d4d-87644f46a91d",
        "vscode": {
          "languageId": "python"
        }
      },
      "outputs": [
        {
          "output_type": "display_data",
          "data": {
            "text/plain": [
              "<Figure size 1500x1200 with 20 Axes>"
            ],
            "image/png": "[encoded data removed]"
          },
          "metadata": {}
        }
      ],
      "source": [
        "dataset.plot(kind='line',subplots=True,layout=(10,2),figsize=(15,12), sharex=False)\n",
        "plt.show()"
      ]
    },
    {
      "cell_type": "markdown",
      "metadata": {
        "id": "Rdb2Vu6ER6bG"
      },
      "source": [
        "**3.2 CORRELATION MATRIX**"
      ]
    },
    {
      "cell_type": "code",
      "execution_count": 38,
      "metadata": {
        "colab": {
          "base_uri": "https://localhost:8080/",
          "height": 1000
        },
        "id": "JJfeTBE8AoEU",
        "outputId": "72490622-518b-4d8d-9a93-1f0df6d061b2",
        "vscode": {
          "languageId": "python"
        }
      },
      "outputs": [
        {
          "output_type": "display_data",
          "data": {
            "text/plain": [
              "<Figure size 1200x1200 with 4 Axes>"
            ],
            "image/png": "[encoded data removed]"
          },
          "metadata": {}
        }
      ],
      "source": [
        "pd.plotting.scatter_matrix(dataset,figsize=(12,12))\n",
        "plt.show()"
      ]
    },
    {
      "cell_type": "markdown",
      "metadata": {
        "id": "3GkOv0zVElyF"
      },
      "source": [
        "correlation matrix with heatmap"
      ]
    },
    {
      "cell_type": "code",
      "execution_count": 39,
      "metadata": {
        "colab": {
          "base_uri": "https://localhost:8080/",
          "height": 733
        },
        "id": "QOpTY-zcm2al",
        "outputId": "60230c82-94ac-4224-b55a-13b5cf02e8a0",
        "vscode": {
          "languageId": "python"
        }
      },
      "outputs": [
        {
          "output_type": "stream",
          "name": "stderr",
          "text": [
            "<ipython-input-39-4b443a21f68f>:2: FutureWarning: The default value of numeric_only in DataFrame.corr is deprecated. In a future version, it will default to False. Select only valid columns or specify the value of numeric_only to silence this warning.\n",
            "  corr = corr_data.corr()\n"
          ]
        },
        {
          "output_type": "display_data",
          "data": {
            "text/plain": [
              "<Figure size 1500x700 with 2 Axes>"
            ],
            "image/png": "[encoded data removed]"
          },
          "metadata": {}
        }
      ],
      "source": [
        "corr_data = dataset\n",
        "corr = corr_data.corr()\n",
        "\n",
        "cor_plot = sns.heatmap(corr,annot=True,cmap='RdYlGn',linewidths=0.2,annot_kws={'size':10})\n",
        "fig=plt.gcf()\n",
        "fig.set_size_inches(15,7)\n",
        "plt.xticks(fontsize=10,rotation=-30)\n",
        "plt.yticks(fontsize=10)\n",
        "plt.title('Correlation Matrix')\n",
        "plt.show()"
      ]
    },
    {
      "cell_type": "code",
      "source": [
        "dataset3 = dataset"
      ],
      "metadata": {
        "id": "EYixrl3ZG3oJ"
      },
      "execution_count": 40,
      "outputs": []
    },
    {
      "cell_type": "code",
      "source": [
        "dist_age_balance = plt.figure(figsize = (10,6))\n",
        "\n",
        "ra1 = dist_age_balance.add_subplot(1,2,1) \n",
        "ra2 = dist_age_balance.add_subplot(1,2,2)\n",
        "\n",
        "ra1.hist(dataset3['rating'])\n",
        "ra1.set_title('The Distribution of rating')\n",
        "\n",
        "ra2.hist(dataset3['no_of_reviews'], color = 'skyblue')\n",
        "ra2.set_title('The Distribution of no_of_reviews')\n",
        "\n",
        "plt.tight_layout() \n",
        "plt.show()"
      ],
      "metadata": {
        "colab": {
          "base_uri": "https://localhost:8080/",
          "height": 583
        },
        "id": "PwVg4UtcGigj",
        "outputId": "2f4a3267-3735-44ba-bfbd-1a341e03b086"
      },
      "execution_count": 42,
      "outputs": [
        {
          "output_type": "display_data",
          "data": {
            "text/plain": [
              "<Figure size 1000x600 with 2 Axes>"
            ],
            "image/png": "[encoded data removed]"
          },
          "metadata": {}
        }
      ]
    },
    {
      "cell_type": "markdown",
      "metadata": {
        "id": "Ue-S5QvcEZP3"
      },
      "source": [
        "**4. Splitting Dataset**"
      ]
    },
    {
      "cell_type": "markdown",
      "metadata": {
        "id": "y6eAqlWSHSCa"
      },
      "source": [
        "**4.1 Slicing**"
      ]
    },
    {
      "cell_type": "markdown",
      "metadata": {
        "id": "bPWKEA19HYEQ"
      },
      "source": [
        "We define x and y as x for data and y for label"
      ]
    },
    {
      "cell_type": "code",
      "execution_count": 43,
      "metadata": {
        "colab": {
          "base_uri": "https://localhost:8080/",
          "height": 423
        },
        "id": "hCep1ou2LfU1",
        "outputId": "a3491355-b9c1-4a4e-8c1c-b2e950bb1194",
        "vscode": {
          "languageId": "python"
        }
      },
      "outputs": [
        {
          "output_type": "execute_result",
          "data": {
            "text/plain": [
              "          drug_name medical_condition activity csa    rating  no_of_reviews  \\\n",
              "4       clindamycin              Acne      39%   N  7.400000     146.000000   \n",
              "5         Aldactone              Acne      35%   N  7.600000       8.000000   \n",
              "16            Doryx              Acne       9%   N  7.500000      57.000000   \n",
              "17     tetracycline              Acne       9%   N  6.300000      55.000000   \n",
              "19          Solodyn              Acne       8%   N  6.900000      99.000000   \n",
              "...             ...               ...      ...  ..       ...            ...   \n",
              "2926  benzphetamine       Weight Loss       2%   3  7.500000      17.000000   \n",
              "2927   fenfluramine       Weight Loss       1%   4  6.812926      75.064943   \n",
              "2928    Fendique ER       Weight Loss       0%   3  6.812926      75.064943   \n",
              "2929       Imcivree       Weight Loss       0%   N  6.812926      75.064943   \n",
              "2930  setmelanotide       Weight Loss       0%   N  6.812926      75.064943   \n",
              "\n",
              "                             medical_condition_url  \n",
              "4        https://www.drugs.com/condition/acne.html  \n",
              "5        https://www.drugs.com/condition/acne.html  \n",
              "16       https://www.drugs.com/condition/acne.html  \n",
              "17       https://www.drugs.com/condition/acne.html  \n",
              "19       https://www.drugs.com/condition/acne.html  \n",
              "...                                            ...  \n",
              "2926  https://www.drugs.com/condition/obesity.html  \n",
              "2927  https://www.drugs.com/condition/obesity.html  \n",
              "2928  https://www.drugs.com/condition/obesity.html  \n",
              "2929  https://www.drugs.com/condition/obesity.html  \n",
              "2930  https://www.drugs.com/condition/obesity.html  \n",
              "\n",
              "[1677 rows x 7 columns]"
            ],
            "text/html": [
              "\n",
              "  <div id=\"df-9ba0f673-9fed-4a93-8dfc-d35f0d001b5a\">\n",
              "    <div class=\"colab-df-container\">\n",
              "      <div>\n",
              "<style scoped>\n",
              "    .dataframe tbody tr th:only-of-type {\n",
              "        vertical-align: middle;\n",
              "    }\n",
              "\n",
              "    .dataframe tbody tr th {\n",
              "        vertical-align: top;\n",
              "    }\n",
              "\n",
              "    .dataframe thead th {\n",
              "        text-align: right;\n",
              "    }\n",
              "</style>\n",
              "<table border=\"1\" class=\"dataframe\">\n",
              "  <thead>\n",
              "    <tr style=\"text-align: right;\">\n",
              "      <th></th>\n",
              "      <th>drug_name</th>\n",
              "      <th>medical_condition</th>\n",
              "      <th>activity</th>\n",
              "      <th>csa</th>\n",
              "      <th>rating</th>\n",
              "      <th>no_of_reviews</th>\n",
              "      <th>medical_condition_url</th>\n",
              "    </tr>\n",
              "  </thead>\n",
              "  <tbody>\n",
              "    <tr>\n",
              "      <th>4</th>\n",
              "      <td>clindamycin</td>\n",
              "      <td>Acne</td>\n",
              "      <td>39%</td>\n",
              "      <td>N</td>\n",
              "      <td>7.400000</td>\n",
              "      <td>146.000000</td>\n",
              "      <td>https://www.drugs.com/condition/acne.html</td>\n",
              "    </tr>\n",
              "    <tr>\n",
              "      <th>5</th>\n",
              "      <td>Aldactone</td>\n",
              "      <td>Acne</td>\n",
              "      <td>35%</td>\n",
              "      <td>N</td>\n",
              "      <td>7.600000</td>\n",
              "      <td>8.000000</td>\n",
              "      <td>https://www.drugs.com/condition/acne.html</td>\n",
              "    </tr>\n",
              "    <tr>\n",
              "      <th>16</th>\n",
              "      <td>Doryx</td>\n",
              "      <td>Acne</td>\n",
              "      <td>9%</td>\n",
              "      <td>N</td>\n",
              "      <td>7.500000</td>\n",
              "      <td>57.000000</td>\n",
              "      <td>https://www.drugs.com/condition/acne.html</td>\n",
              "    </tr>\n",
              "    <tr>\n",
              "      <th>17</th>\n",
              "      <td>tetracycline</td>\n",
              "      <td>Acne</td>\n",
              "      <td>9%</td>\n",
              "      <td>N</td>\n",
              "      <td>6.300000</td>\n",
              "      <td>55.000000</td>\n",
              "      <td>https://www.drugs.com/condition/acne.html</td>\n",
              "    </tr>\n",
              "    <tr>\n",
              "      <th>19</th>\n",
              "      <td>Solodyn</td>\n",
              "      <td>Acne</td>\n",
              "      <td>8%</td>\n",
              "      <td>N</td>\n",
              "      <td>6.900000</td>\n",
              "      <td>99.000000</td>\n",
              "      <td>https://www.drugs.com/condition/acne.html</td>\n",
              "    </tr>\n",
              "    <tr>\n",
              "      <th>...</th>\n",
              "      <td>...</td>\n",
              "      <td>...</td>\n",
              "      <td>...</td>\n",
              "      <td>...</td>\n",
              "      <td>...</td>\n",
              "      <td>...</td>\n",
              "      <td>...</td>\n",
              "    </tr>\n",
              "    <tr>\n",
              "      <th>2926</th>\n",
              "      <td>benzphetamine</td>\n",
              "      <td>Weight Loss</td>\n",
              "      <td>2%</td>\n",
              "      <td>3</td>\n",
              "      <td>7.500000</td>\n",
              "      <td>17.000000</td>\n",
              "      <td>https://www.drugs.com/condition/obesity.html</td>\n",
              "    </tr>\n",
              "    <tr>\n",
              "      <th>2927</th>\n",
              "      <td>fenfluramine</td>\n",
              "      <td>Weight Loss</td>\n",
              "      <td>1%</td>\n",
              "      <td>4</td>\n",
              "      <td>6.812926</td>\n",
              "      <td>75.064943</td>\n",
              "      <td>https://www.drugs.com/condition/obesity.html</td>\n",
              "    </tr>\n",
              "    <tr>\n",
              "      <th>2928</th>\n",
              "      <td>Fendique ER</td>\n",
              "      <td>Weight Loss</td>\n",
              "      <td>0%</td>\n",
              "      <td>3</td>\n",
              "      <td>6.812926</td>\n",
              "      <td>75.064943</td>\n",
              "      <td>https://www.drugs.com/condition/obesity.html</td>\n",
              "    </tr>\n",
              "    <tr>\n",
              "      <th>2929</th>\n",
              "      <td>Imcivree</td>\n",
              "      <td>Weight Loss</td>\n",
              "      <td>0%</td>\n",
              "      <td>N</td>\n",
              "      <td>6.812926</td>\n",
              "      <td>75.064943</td>\n",
              "      <td>https://www.drugs.com/condition/obesity.html</td>\n",
              "    </tr>\n",
              "    <tr>\n",
              "      <th>2930</th>\n",
              "      <td>setmelanotide</td>\n",
              "      <td>Weight Loss</td>\n",
              "      <td>0%</td>\n",
              "      <td>N</td>\n",
              "      <td>6.812926</td>\n",
              "      <td>75.064943</td>\n",
              "      <td>https://www.drugs.com/condition/obesity.html</td>\n",
              "    </tr>\n",
              "  </tbody>\n",
              "</table>\n",
              "<p>1677 rows × 7 columns</p>\n",
              "</div>\n",
              "      <button class=\"colab-df-convert\" onclick=\"convertToInteractive('df-9ba0f673-9fed-4a93-8dfc-d35f0d001b5a')\"\n",
              "              title=\"Convert this dataframe to an interactive table.\"\n",
              "              style=\"display:none;\">\n",
              "        \n",
              "  <svg xmlns=\"http://www.w3.org/2000/svg\" height=\"24px\"viewBox=\"0 0 24 24\"\n",
              "       width=\"24px\">\n",
              "    <path d=\"M0 0h24v24H0V0z\" fill=\"none\"/>\n",
              "    <path d=\"M18.56 5.44l.94 2.06.94-2.06 2.06-.94-2.06-.94-.94-2.06-.94 2.06-2.06.94zm-11 1L8.5 8.5l.94-2.06 2.06-.94-2.06-.94L8.5 2.5l-.94 2.06-2.06.94zm10 10l.94 2.06.94-2.06 2.06-.94-2.06-.94-.94-2.06-.94 2.06-2.06.94z\"/><path d=\"M17.41 7.96l-1.37-1.37c-.4-.4-.92-.59-1.43-.59-.52 0-1.04.2-1.43.59L10.3 9.45l-7.72 7.72c-.78.78-.78 2.05 0 2.83L4 21.41c.39.39.9.59 1.41.59.51 0 1.02-.2 1.41-.59l7.78-7.78 2.81-2.81c.8-.78.8-2.07 0-2.86zM5.41 20L4 18.59l7.72-7.72 1.47 1.35L5.41 20z\"/>\n",
              "  </svg>\n",
              "      </button>\n",
              "      \n",
              "  <style>\n",
              "    .colab-df-container {\n",
              "      display:flex;\n",
              "      flex-wrap:wrap;\n",
              "      gap: 12px;\n",
              "    }\n",
              "\n",
              "    .colab-df-convert {\n",
              "      background-color: #E8F0FE;\n",
              "      border: none;\n",
              "      border-radius: 50%;\n",
              "      cursor: pointer;\n",
              "      display: none;\n",
              "      fill: #1967D2;\n",
              "      height: 32px;\n",
              "      padding: 0 0 0 0;\n",
              "      width: 32px;\n",
              "    }\n",
              "\n",
              "    .colab-df-convert:hover {\n",
              "      background-color: #E2EBFA;\n",
              "      box-shadow: 0px 1px 2px rgba(60, 64, 67, 0.3), 0px 1px 3px 1px rgba(60, 64, 67, 0.15);\n",
              "      fill: #174EA6;\n",
              "    }\n",
              "\n",
              "    [theme=dark] .colab-df-convert {\n",
              "      background-color: #3B4455;\n",
              "      fill: #D2E3FC;\n",
              "    }\n",
              "\n",
              "    [theme=dark] .colab-df-convert:hover {\n",
              "      background-color: #434B5C;\n",
              "      box-shadow: 0px 1px 3px 1px rgba(0, 0, 0, 0.15);\n",
              "      filter: drop-shadow(0px 1px 2px rgba(0, 0, 0, 0.3));\n",
              "      fill: #FFFFFF;\n",
              "    }\n",
              "  </style>\n",
              "\n",
              "      <script>\n",
              "        const buttonEl =\n",
              "          document.querySelector('#df-9ba0f673-9fed-4a93-8dfc-d35f0d001b5a button.colab-df-convert');\n",
              "        buttonEl.style.display =\n",
              "          google.colab.kernel.accessAllowed ? 'block' : 'none';\n",
              "\n",
              "        async function convertToInteractive(key) {\n",
              "          const element = document.querySelector('#df-9ba0f673-9fed-4a93-8dfc-d35f0d001b5a');\n",
              "          const dataTable =\n",
              "            await google.colab.kernel.invokeFunction('convertToInteractive',\n",
              "                                                     [key], {});\n",
              "          if (!dataTable) return;\n",
              "\n",
              "          const docLinkHtml = 'Like what you see? Visit the ' +\n",
              "            '<a target=\"_blank\" href=https://colab.research.google.com/notebooks/data_table.ipynb>data table notebook</a>'\n",
              "            + ' to learn more about interactive tables.';\n",
              "          element.innerHTML = '';\n",
              "          dataTable['output_type'] = 'display_data';\n",
              "          await google.colab.output.renderOutput(dataTable, element);\n",
              "          const docLink = document.createElement('div');\n",
              "          docLink.innerHTML = docLinkHtml;\n",
              "          element.appendChild(docLink);\n",
              "        }\n",
              "      </script>\n",
              "    </div>\n",
              "  </div>\n",
              "  "
            ]
          },
          "metadata": {},
          "execution_count": 43
        }
      ],
      "source": [
        "x = dataset.drop('drug_link', axis=1)\n",
        "x"
      ]
    },
    {
      "cell_type": "markdown",
      "metadata": {
        "id": "SkZgXnQ-tST1"
      },
      "source": [
        "Choose feature Type as a label"
      ]
    },
    {
      "cell_type": "code",
      "execution_count": 44,
      "metadata": {
        "colab": {
          "base_uri": "https://localhost:8080/"
        },
        "id": "WOZTLMYeh3hj",
        "outputId": "36b23a48-bf27-4487-b4f7-74ede42e1cb5",
        "vscode": {
          "languageId": "python"
        }
      },
      "outputs": [
        {
          "output_type": "execute_result",
          "data": {
            "text/plain": [
              "4       https://www.drugs.com/mtm/clindamycin-topical....\n",
              "5                    https://www.drugs.com/aldactone.html\n",
              "16                  https://www.drugs.com/cons/doryx.html\n",
              "17                https://www.drugs.com/tetracycline.html\n",
              "19                     https://www.drugs.com/solodyn.html\n",
              "                              ...                        \n",
              "2926         https://www.drugs.com/mtm/benzphetamine.html\n",
              "2927          https://www.drugs.com/mtm/fenfluramine.html\n",
              "2928           https://www.drugs.com/pro/fendique-er.html\n",
              "2929                  https://www.drugs.com/imcivree.html\n",
              "2930         https://www.drugs.com/mtm/setmelanotide.html\n",
              "Name: drug_link, Length: 1677, dtype: object"
            ]
          },
          "metadata": {},
          "execution_count": 44
        }
      ],
      "source": [
        "y = dataset[\"drug_link\"]\n",
        "y"
      ]
    },
    {
      "cell_type": "code",
      "execution_count": 45,
      "metadata": {
        "colab": {
          "base_uri": "https://localhost:8080/"
        },
        "id": "l6idhdXTrLAD",
        "outputId": "dd61e598-b410-4ab5-c96f-d2d7af29db23",
        "vscode": {
          "languageId": "python"
        }
      },
      "outputs": [
        {
          "output_type": "execute_result",
          "data": {
            "text/plain": [
              "array([['https://www.drugs.com/mtm/clindamycin-topical.html'],\n",
              "       ['https://www.drugs.com/aldactone.html'],\n",
              "       ['https://www.drugs.com/cons/doryx.html'],\n",
              "       ...,\n",
              "       ['https://www.drugs.com/pro/fendique-er.html'],\n",
              "       ['https://www.drugs.com/imcivree.html'],\n",
              "       ['https://www.drugs.com/mtm/setmelanotide.html']], dtype=object)"
            ]
          },
          "metadata": {},
          "execution_count": 45
        }
      ],
      "source": [
        "y.values.reshape(-1,1)"
      ]
    },
    {
      "cell_type": "markdown",
      "metadata": {
        "id": "-KhD3RU7qniq"
      },
      "source": [
        "**4.2 Categorical Encoding**\n",
        "\n",
        "Choose One Hot Encoding or Label Encoding for perform categorical encoding\n",
        "\n",
        "**One-Hot Encoding for data input x**"
      ]
    },
    {
      "cell_type": "code",
      "execution_count": 46,
      "metadata": {
        "colab": {
          "base_uri": "https://localhost:8080/",
          "height": 539
        },
        "id": "y_K5f2vyqNef",
        "outputId": "1c629870-a397-4655-b536-54bea25790d9",
        "vscode": {
          "languageId": "python"
        }
      },
      "outputs": [
        {
          "output_type": "execute_result",
          "data": {
            "text/plain": [
              "        rating  no_of_reviews  drug_name_7T Gummy ES Chewable Tablets  \\\n",
              "4     7.400000     146.000000                                       0   \n",
              "5     7.600000       8.000000                                       0   \n",
              "16    7.500000      57.000000                                       0   \n",
              "17    6.300000      55.000000                                       0   \n",
              "19    6.900000      99.000000                                       0   \n",
              "...        ...            ...                                     ...   \n",
              "2926  7.500000      17.000000                                       0   \n",
              "2927  6.812926      75.064943                                       0   \n",
              "2928  6.812926      75.064943                                       0   \n",
              "2929  6.812926      75.064943                                       0   \n",
              "2930  6.812926      75.064943                                       0   \n",
              "\n",
              "      drug_name_A-G Profen  drug_name_A-Phedrin  drug_name_Abatuss DMX  \\\n",
              "4                        0                    0                      0   \n",
              "5                        0                    0                      0   \n",
              "16                       0                    0                      0   \n",
              "17                       0                    0                      0   \n",
              "19                       0                    0                      0   \n",
              "...                    ...                  ...                    ...   \n",
              "2926                     0                    0                      0   \n",
              "2927                     0                    0                      0   \n",
              "2928                     0                    0                      0   \n",
              "2929                     0                    0                      0   \n",
              "2930                     0                    0                      0   \n",
              "\n",
              "      drug_name_Abenol  drug_name_Abilify MyCite  drug_name_Abrilada  \\\n",
              "4                    0                         0                   0   \n",
              "5                    0                         0                   0   \n",
              "16                   0                         0                   0   \n",
              "17                   0                         0                   0   \n",
              "19                   0                         0                   0   \n",
              "...                ...                       ...                 ...   \n",
              "2926                 0                         0                   0   \n",
              "2927                 0                         0                   0   \n",
              "2928                 0                         0                   0   \n",
              "2929                 0                         0                   0   \n",
              "2930                 0                         0                   0   \n",
              "\n",
              "      drug_name_Absorica  ...  \\\n",
              "4                      0  ...   \n",
              "5                      0  ...   \n",
              "16                     0  ...   \n",
              "17                     0  ...   \n",
              "19                     0  ...   \n",
              "...                  ...  ...   \n",
              "2926                   0  ...   \n",
              "2927                   0  ...   \n",
              "2928                   0  ...   \n",
              "2929                   0  ...   \n",
              "2930                   0  ...   \n",
              "\n",
              "      medical_condition_url_https://www.drugs.com/condition/osteoporosis.html  \\\n",
              "4                                                     0                         \n",
              "5                                                     0                         \n",
              "16                                                    0                         \n",
              "17                                                    0                         \n",
              "19                                                    0                         \n",
              "...                                                 ...                         \n",
              "2926                                                  0                         \n",
              "2927                                                  0                         \n",
              "2928                                                  0                         \n",
              "2929                                                  0                         \n",
              "2930                                                  0                         \n",
              "\n",
              "      medical_condition_url_https://www.drugs.com/condition/pain.html  \\\n",
              "4                                                     0                 \n",
              "5                                                     0                 \n",
              "16                                                    0                 \n",
              "17                                                    0                 \n",
              "19                                                    0                 \n",
              "...                                                 ...                 \n",
              "2926                                                  0                 \n",
              "2927                                                  0                 \n",
              "2928                                                  0                 \n",
              "2929                                                  0                 \n",
              "2930                                                  0                 \n",
              "\n",
              "      medical_condition_url_https://www.drugs.com/condition/pneumonia.html  \\\n",
              "4                                                     0                      \n",
              "5                                                     0                      \n",
              "16                                                    0                      \n",
              "17                                                    0                      \n",
              "19                                                    0                      \n",
              "...                                                 ...                      \n",
              "2926                                                  0                      \n",
              "2927                                                  0                      \n",
              "2928                                                  0                      \n",
              "2929                                                  0                      \n",
              "2930                                                  0                      \n",
              "\n",
              "      medical_condition_url_https://www.drugs.com/condition/psoriasis.html  \\\n",
              "4                                                     0                      \n",
              "5                                                     0                      \n",
              "16                                                    0                      \n",
              "17                                                    0                      \n",
              "19                                                    0                      \n",
              "...                                                 ...                      \n",
              "2926                                                  0                      \n",
              "2927                                                  0                      \n",
              "2928                                                  0                      \n",
              "2929                                                  0                      \n",
              "2930                                                  0                      \n",
              "\n",
              "      medical_condition_url_https://www.drugs.com/condition/rheumatoid-arthritis.html  \\\n",
              "4                                                     0                                 \n",
              "5                                                     0                                 \n",
              "16                                                    0                                 \n",
              "17                                                    0                                 \n",
              "19                                                    0                                 \n",
              "...                                                 ...                                 \n",
              "2926                                                  0                                 \n",
              "2927                                                  0                                 \n",
              "2928                                                  0                                 \n",
              "2929                                                  0                                 \n",
              "2930                                                  0                                 \n",
              "\n",
              "      medical_condition_url_https://www.drugs.com/condition/schizophrenia.html  \\\n",
              "4                                                     0                          \n",
              "5                                                     0                          \n",
              "16                                                    0                          \n",
              "17                                                    0                          \n",
              "19                                                    0                          \n",
              "...                                                 ...                          \n",
              "2926                                                  0                          \n",
              "2927                                                  0                          \n",
              "2928                                                  0                          \n",
              "2929                                                  0                          \n",
              "2930                                                  0                          \n",
              "\n",
              "      medical_condition_url_https://www.drugs.com/condition/seizures.html  \\\n",
              "4                                                     0                     \n",
              "5                                                     0                     \n",
              "16                                                    0                     \n",
              "17                                                    0                     \n",
              "19                                                    0                     \n",
              "...                                                 ...                     \n",
              "2926                                                  0                     \n",
              "2927                                                  0                     \n",
              "2928                                                  0                     \n",
              "2929                                                  0                     \n",
              "2930                                                  0                     \n",
              "\n",
              "      medical_condition_url_https://www.drugs.com/condition/swine-flu.html  \\\n",
              "4                                                     0                      \n",
              "5                                                     0                      \n",
              "16                                                    0                      \n",
              "17                                                    0                      \n",
              "19                                                    0                      \n",
              "...                                                 ...                      \n",
              "2926                                                  0                      \n",
              "2927                                                  0                      \n",
              "2928                                                  0                      \n",
              "2929                                                  0                      \n",
              "2930                                                  0                      \n",
              "\n",
              "      medical_condition_url_https://www.drugs.com/condition/urinary-incontinence.html  \\\n",
              "4                                                     0                                 \n",
              "5                                                     0                                 \n",
              "16                                                    0                                 \n",
              "17                                                    0                                 \n",
              "19                                                    0                                 \n",
              "...                                                 ...                                 \n",
              "2926                                                  0                                 \n",
              "2927                                                  0                                 \n",
              "2928                                                  0                                 \n",
              "2929                                                  0                                 \n",
              "2930                                                  0                                 \n",
              "\n",
              "      medical_condition_url_https://www.drugs.com/condition/urinary-tract-infection.html  \n",
              "4                                                     0                                   \n",
              "5                                                     0                                   \n",
              "16                                                    0                                   \n",
              "17                                                    0                                   \n",
              "19                                                    0                                   \n",
              "...                                                 ...                                   \n",
              "2926                                                  0                                   \n",
              "2927                                                  0                                   \n",
              "2928                                                  0                                   \n",
              "2929                                                  0                                   \n",
              "2930                                                  0                                   \n",
              "\n",
              "[1677 rows x 1843 columns]"
            ],
            "text/html": [
              "\n",
              "  <div id=\"df-a9e8edc5-0cf9-4536-b709-8cd23504c73e\">\n",
              "    <div class=\"colab-df-container\">\n",
              "      <div>\n",
              "<style scoped>\n",
              "    .dataframe tbody tr th:only-of-type {\n",
              "        vertical-align: middle;\n",
              "    }\n",
              "\n",
              "    .dataframe tbody tr th {\n",
              "        vertical-align: top;\n",
              "    }\n",
              "\n",
              "    .dataframe thead th {\n",
              "        text-align: right;\n",
              "    }\n",
              "</style>\n",
              "<table border=\"1\" class=\"dataframe\">\n",
              "  <thead>\n",
              "    <tr style=\"text-align: right;\">\n",
              "      <th></th>\n",
              "      <th>rating</th>\n",
              "      <th>no_of_reviews</th>\n",
              "      <th>drug_name_7T Gummy ES Chewable Tablets</th>\n",
              "      <th>drug_name_A-G Profen</th>\n",
              "      <th>drug_name_A-Phedrin</th>\n",
              "      <th>drug_name_Abatuss DMX</th>\n",
              "      <th>drug_name_Abenol</th>\n",
              "      <th>drug_name_Abilify MyCite</th>\n",
              "      <th>drug_name_Abrilada</th>\n",
              "      <th>drug_name_Absorica</th>\n",
              "      <th>...</th>\n",
              "      <th>medical_condition_url_https://www.drugs.com/condition/osteoporosis.html</th>\n",
              "      <th>medical_condition_url_https://www.drugs.com/condition/pain.html</th>\n",
              "      <th>medical_condition_url_https://www.drugs.com/condition/pneumonia.html</th>\n",
              "      <th>medical_condition_url_https://www.drugs.com/condition/psoriasis.html</th>\n",
              "      <th>medical_condition_url_https://www.drugs.com/condition/rheumatoid-arthritis.html</th>\n",
              "      <th>medical_condition_url_https://www.drugs.com/condition/schizophrenia.html</th>\n",
              "      <th>medical_condition_url_https://www.drugs.com/condition/seizures.html</th>\n",
              "      <th>medical_condition_url_https://www.drugs.com/condition/swine-flu.html</th>\n",
              "      <th>medical_condition_url_https://www.drugs.com/condition/urinary-incontinence.html</th>\n",
              "      <th>medical_condition_url_https://www.drugs.com/condition/urinary-tract-infection.html</th>\n",
              "    </tr>\n",
              "  </thead>\n",
              "  <tbody>\n",
              "    <tr>\n",
              "      <th>4</th>\n",
              "      <td>7.400000</td>\n",
              "      <td>146.000000</td>\n",
              "      <td>0</td>\n",
              "      <td>0</td>\n",
              "      <td>0</td>\n",
              "      <td>0</td>\n",
              "      <td>0</td>\n",
              "      <td>0</td>\n",
              "      <td>0</td>\n",
              "      <td>0</td>\n",
              "      <td>...</td>\n",
              "      <td>0</td>\n",
              "      <td>0</td>\n",
              "      <td>0</td>\n",
              "      <td>0</td>\n",
              "      <td>0</td>\n",
              "      <td>0</td>\n",
              "      <td>0</td>\n",
              "      <td>0</td>\n",
              "      <td>0</td>\n",
              "      <td>0</td>\n",
              "    </tr>\n",
              "    <tr>\n",
              "      <th>5</th>\n",
              "      <td>7.600000</td>\n",
              "      <td>8.000000</td>\n",
              "      <td>0</td>\n",
              "      <td>0</td>\n",
              "      <td>0</td>\n",
              "      <td>0</td>\n",
              "      <td>0</td>\n",
              "      <td>0</td>\n",
              "      <td>0</td>\n",
              "      <td>0</td>\n",
              "      <td>...</td>\n",
              "      <td>0</td>\n",
              "      <td>0</td>\n",
              "      <td>0</td>\n",
              "      <td>0</td>\n",
              "      <td>0</td>\n",
              "      <td>0</td>\n",
              "      <td>0</td>\n",
              "      <td>0</td>\n",
              "      <td>0</td>\n",
              "      <td>0</td>\n",
              "    </tr>\n",
              "    <tr>\n",
              "      <th>16</th>\n",
              "      <td>7.500000</td>\n",
              "      <td>57.000000</td>\n",
              "      <td>0</td>\n",
              "      <td>0</td>\n",
              "      <td>0</td>\n",
              "      <td>0</td>\n",
              "      <td>0</td>\n",
              "      <td>0</td>\n",
              "      <td>0</td>\n",
              "      <td>0</td>\n",
              "      <td>...</td>\n",
              "      <td>0</td>\n",
              "      <td>0</td>\n",
              "      <td>0</td>\n",
              "      <td>0</td>\n",
              "      <td>0</td>\n",
              "      <td>0</td>\n",
              "      <td>0</td>\n",
              "      <td>0</td>\n",
              "      <td>0</td>\n",
              "      <td>0</td>\n",
              "    </tr>\n",
              "    <tr>\n",
              "      <th>17</th>\n",
              "      <td>6.300000</td>\n",
              "      <td>55.000000</td>\n",
              "      <td>0</td>\n",
              "      <td>0</td>\n",
              "      <td>0</td>\n",
              "      <td>0</td>\n",
              "      <td>0</td>\n",
              "      <td>0</td>\n",
              "      <td>0</td>\n",
              "      <td>0</td>\n",
              "      <td>...</td>\n",
              "      <td>0</td>\n",
              "      <td>0</td>\n",
              "      <td>0</td>\n",
              "      <td>0</td>\n",
              "      <td>0</td>\n",
              "      <td>0</td>\n",
              "      <td>0</td>\n",
              "      <td>0</td>\n",
              "      <td>0</td>\n",
              "      <td>0</td>\n",
              "    </tr>\n",
              "    <tr>\n",
              "      <th>19</th>\n",
              "      <td>6.900000</td>\n",
              "      <td>99.000000</td>\n",
              "      <td>0</td>\n",
              "      <td>0</td>\n",
              "      <td>0</td>\n",
              "      <td>0</td>\n",
              "      <td>0</td>\n",
              "      <td>0</td>\n",
              "      <td>0</td>\n",
              "      <td>0</td>\n",
              "      <td>...</td>\n",
              "      <td>0</td>\n",
              "      <td>0</td>\n",
              "      <td>0</td>\n",
              "      <td>0</td>\n",
              "      <td>0</td>\n",
              "      <td>0</td>\n",
              "      <td>0</td>\n",
              "      <td>0</td>\n",
              "      <td>0</td>\n",
              "      <td>0</td>\n",
              "    </tr>\n",
              "    <tr>\n",
              "      <th>...</th>\n",
              "      <td>...</td>\n",
              "      <td>...</td>\n",
              "      <td>...</td>\n",
              "      <td>...</td>\n",
              "      <td>...</td>\n",
              "      <td>...</td>\n",
              "      <td>...</td>\n",
              "      <td>...</td>\n",
              "      <td>...</td>\n",
              "      <td>...</td>\n",
              "      <td>...</td>\n",
              "      <td>...</td>\n",
              "      <td>...</td>\n",
              "      <td>...</td>\n",
              "      <td>...</td>\n",
              "      <td>...</td>\n",
              "      <td>...</td>\n",
              "      <td>...</td>\n",
              "      <td>...</td>\n",
              "      <td>...</td>\n",
              "      <td>...</td>\n",
              "    </tr>\n",
              "    <tr>\n",
              "      <th>2926</th>\n",
              "      <td>7.500000</td>\n",
              "      <td>17.000000</td>\n",
              "      <td>0</td>\n",
              "      <td>0</td>\n",
              "      <td>0</td>\n",
              "      <td>0</td>\n",
              "      <td>0</td>\n",
              "      <td>0</td>\n",
              "      <td>0</td>\n",
              "      <td>0</td>\n",
              "      <td>...</td>\n",
              "      <td>0</td>\n",
              "      <td>0</td>\n",
              "      <td>0</td>\n",
              "      <td>0</td>\n",
              "      <td>0</td>\n",
              "      <td>0</td>\n",
              "      <td>0</td>\n",
              "      <td>0</td>\n",
              "      <td>0</td>\n",
              "      <td>0</td>\n",
              "    </tr>\n",
              "    <tr>\n",
              "      <th>2927</th>\n",
              "      <td>6.812926</td>\n",
              "      <td>75.064943</td>\n",
              "      <td>0</td>\n",
              "      <td>0</td>\n",
              "      <td>0</td>\n",
              "      <td>0</td>\n",
              "      <td>0</td>\n",
              "      <td>0</td>\n",
              "      <td>0</td>\n",
              "      <td>0</td>\n",
              "      <td>...</td>\n",
              "      <td>0</td>\n",
              "      <td>0</td>\n",
              "      <td>0</td>\n",
              "      <td>0</td>\n",
              "      <td>0</td>\n",
              "      <td>0</td>\n",
              "      <td>0</td>\n",
              "      <td>0</td>\n",
              "      <td>0</td>\n",
              "      <td>0</td>\n",
              "    </tr>\n",
              "    <tr>\n",
              "      <th>2928</th>\n",
              "      <td>6.812926</td>\n",
              "      <td>75.064943</td>\n",
              "      <td>0</td>\n",
              "      <td>0</td>\n",
              "      <td>0</td>\n",
              "      <td>0</td>\n",
              "      <td>0</td>\n",
              "      <td>0</td>\n",
              "      <td>0</td>\n",
              "      <td>0</td>\n",
              "      <td>...</td>\n",
              "      <td>0</td>\n",
              "      <td>0</td>\n",
              "      <td>0</td>\n",
              "      <td>0</td>\n",
              "      <td>0</td>\n",
              "      <td>0</td>\n",
              "      <td>0</td>\n",
              "      <td>0</td>\n",
              "      <td>0</td>\n",
              "      <td>0</td>\n",
              "    </tr>\n",
              "    <tr>\n",
              "      <th>2929</th>\n",
              "      <td>6.812926</td>\n",
              "      <td>75.064943</td>\n",
              "      <td>0</td>\n",
              "      <td>0</td>\n",
              "      <td>0</td>\n",
              "      <td>0</td>\n",
              "      <td>0</td>\n",
              "      <td>0</td>\n",
              "      <td>0</td>\n",
              "      <td>0</td>\n",
              "      <td>...</td>\n",
              "      <td>0</td>\n",
              "      <td>0</td>\n",
              "      <td>0</td>\n",
              "      <td>0</td>\n",
              "      <td>0</td>\n",
              "      <td>0</td>\n",
              "      <td>0</td>\n",
              "      <td>0</td>\n",
              "      <td>0</td>\n",
              "      <td>0</td>\n",
              "    </tr>\n",
              "    <tr>\n",
              "      <th>2930</th>\n",
              "      <td>6.812926</td>\n",
              "      <td>75.064943</td>\n",
              "      <td>0</td>\n",
              "      <td>0</td>\n",
              "      <td>0</td>\n",
              "      <td>0</td>\n",
              "      <td>0</td>\n",
              "      <td>0</td>\n",
              "      <td>0</td>\n",
              "      <td>0</td>\n",
              "      <td>...</td>\n",
              "      <td>0</td>\n",
              "      <td>0</td>\n",
              "      <td>0</td>\n",
              "      <td>0</td>\n",
              "      <td>0</td>\n",
              "      <td>0</td>\n",
              "      <td>0</td>\n",
              "      <td>0</td>\n",
              "      <td>0</td>\n",
              "      <td>0</td>\n",
              "    </tr>\n",
              "  </tbody>\n",
              "</table>\n",
              "<p>1677 rows × 1843 columns</p>\n",
              "</div>\n",
              "      <button class=\"colab-df-convert\" onclick=\"convertToInteractive('df-a9e8edc5-0cf9-4536-b709-8cd23504c73e')\"\n",
              "              title=\"Convert this dataframe to an interactive table.\"\n",
              "              style=\"display:none;\">\n",
              "        \n",
              "  <svg xmlns=\"http://www.w3.org/2000/svg\" height=\"24px\"viewBox=\"0 0 24 24\"\n",
              "       width=\"24px\">\n",
              "    <path d=\"M0 0h24v24H0V0z\" fill=\"none\"/>\n",
              "    <path d=\"M18.56 5.44l.94 2.06.94-2.06 2.06-.94-2.06-.94-.94-2.06-.94 2.06-2.06.94zm-11 1L8.5 8.5l.94-2.06 2.06-.94-2.06-.94L8.5 2.5l-.94 2.06-2.06.94zm10 10l.94 2.06.94-2.06 2.06-.94-2.06-.94-.94-2.06-.94 2.06-2.06.94z\"/><path d=\"M17.41 7.96l-1.37-1.37c-.4-.4-.92-.59-1.43-.59-.52 0-1.04.2-1.43.59L10.3 9.45l-7.72 7.72c-.78.78-.78 2.05 0 2.83L4 21.41c.39.39.9.59 1.41.59.51 0 1.02-.2 1.41-.59l7.78-7.78 2.81-2.81c.8-.78.8-2.07 0-2.86zM5.41 20L4 18.59l7.72-7.72 1.47 1.35L5.41 20z\"/>\n",
              "  </svg>\n",
              "      </button>\n",
              "      \n",
              "  <style>\n",
              "    .colab-df-container {\n",
              "      display:flex;\n",
              "      flex-wrap:wrap;\n",
              "      gap: 12px;\n",
              "    }\n",
              "\n",
              "    .colab-df-convert {\n",
              "      background-color: #E8F0FE;\n",
              "      border: none;\n",
              "      border-radius: 50%;\n",
              "      cursor: pointer;\n",
              "      display: none;\n",
              "      fill: #1967D2;\n",
              "      height: 32px;\n",
              "      padding: 0 0 0 0;\n",
              "      width: 32px;\n",
              "    }\n",
              "\n",
              "    .colab-df-convert:hover {\n",
              "      background-color: #E2EBFA;\n",
              "      box-shadow: 0px 1px 2px rgba(60, 64, 67, 0.3), 0px 1px 3px 1px rgba(60, 64, 67, 0.15);\n",
              "      fill: #174EA6;\n",
              "    }\n",
              "\n",
              "    [theme=dark] .colab-df-convert {\n",
              "      background-color: #3B4455;\n",
              "      fill: #D2E3FC;\n",
              "    }\n",
              "\n",
              "    [theme=dark] .colab-df-convert:hover {\n",
              "      background-color: #434B5C;\n",
              "      box-shadow: 0px 1px 3px 1px rgba(0, 0, 0, 0.15);\n",
              "      filter: drop-shadow(0px 1px 2px rgba(0, 0, 0, 0.3));\n",
              "      fill: #FFFFFF;\n",
              "    }\n",
              "  </style>\n",
              "\n",
              "      <script>\n",
              "        const buttonEl =\n",
              "          document.querySelector('#df-a9e8edc5-0cf9-4536-b709-8cd23504c73e button.colab-df-convert');\n",
              "        buttonEl.style.display =\n",
              "          google.colab.kernel.accessAllowed ? 'block' : 'none';\n",
              "\n",
              "        async function convertToInteractive(key) {\n",
              "          const element = document.querySelector('#df-a9e8edc5-0cf9-4536-b709-8cd23504c73e');\n",
              "          const dataTable =\n",
              "            await google.colab.kernel.invokeFunction('convertToInteractive',\n",
              "                                                     [key], {});\n",
              "          if (!dataTable) return;\n",
              "\n",
              "          const docLinkHtml = 'Like what you see? Visit the ' +\n",
              "            '<a target=\"_blank\" href=https://colab.research.google.com/notebooks/data_table.ipynb>data table notebook</a>'\n",
              "            + ' to learn more about interactive tables.';\n",
              "          element.innerHTML = '';\n",
              "          dataTable['output_type'] = 'display_data';\n",
              "          await google.colab.output.renderOutput(dataTable, element);\n",
              "          const docLink = document.createElement('div');\n",
              "          docLink.innerHTML = docLinkHtml;\n",
              "          element.appendChild(docLink);\n",
              "        }\n",
              "      </script>\n",
              "    </div>\n",
              "  </div>\n",
              "  "
            ]
          },
          "metadata": {},
          "execution_count": 46
        }
      ],
      "source": [
        "x = pd.get_dummies(x)\n",
        "x"
      ]
    },
    {
      "cell_type": "code",
      "execution_count": 47,
      "metadata": {
        "colab": {
          "base_uri": "https://localhost:8080/"
        },
        "id": "bTWosUkWqZyG",
        "outputId": "e8fbde16-b6df-4f31-f8b2-d88133c2d1e1",
        "vscode": {
          "languageId": "python"
        }
      },
      "outputs": [
        {
          "output_type": "execute_result",
          "data": {
            "text/plain": [
              "(1677, 1843)"
            ]
          },
          "metadata": {},
          "execution_count": 47
        }
      ],
      "source": [
        "x.shape"
      ]
    },
    {
      "cell_type": "markdown",
      "metadata": {
        "id": "BuOZc5O6GUJz"
      },
      "source": [
        "**4.2.1 Standarization**"
      ]
    },
    {
      "cell_type": "markdown",
      "metadata": {
        "id": "B4NxpFrsHDmP"
      },
      "source": [
        "Standardization is used on the data values that are normally distributed. Further, by applying standardization, we tend to make the mean of the dataset as 0 and the standard deviation equivalent to 1.\n",
        "\n",
        "That is, by standardizing the values, we get the following statistics of the data distribution\n",
        "\n",
        "mean = 0\n",
        "standard deviation = 1\n",
        "\n",
        "Thus, by this the data set becomes self explanatory and easy to analyze as the mean turns down to 0 and it happens to have an unit variance.\n",
        "\n",
        "References: https://www.askpython.com/python/examples/standardize-data-in-python#:~:text=Ways%20to%20Standardize%20Data%20in%20Python%201%201.,load_iris%20...%202%202.%20Using%20StandardScaler%20%28%29%20function"
      ]
    },
    {
      "cell_type": "code",
      "execution_count": 48,
      "metadata": {
        "colab": {
          "base_uri": "https://localhost:8080/",
          "height": 487
        },
        "id": "GR-GhzRXGRNg",
        "outputId": "56a30e0a-7811-4d42-f304-40207c8aa788",
        "vscode": {
          "languageId": "python"
        }
      },
      "outputs": [
        {
          "output_type": "execute_result",
          "data": {
            "text/plain": [
              "          0         1         2         3         4         5         6     \\\n",
              "0     2.807973  3.354524 -0.024427 -0.024427 -0.024427 -0.024427 -0.024427   \n",
              "1     3.827325 -2.542729 -0.024427 -0.024427 -0.024427 -0.024427 -0.024427   \n",
              "2     3.317649 -0.448777 -0.024427 -0.024427 -0.024427 -0.024427 -0.024427   \n",
              "3    -2.798460 -0.534244 -0.024427 -0.024427 -0.024427 -0.024427 -0.024427   \n",
              "4     0.259594  1.346039 -0.024427 -0.024427 -0.024427 -0.024427 -0.024427   \n",
              "...        ...       ...       ...       ...       ...       ...       ...   \n",
              "1672  3.317649 -2.158125 -0.024427 -0.024427 -0.024427 -0.024427 -0.024427   \n",
              "1673 -0.184203  0.323206 -0.024427 -0.024427 -0.024427 -0.024427 -0.024427   \n",
              "1674 -0.184203  0.323206 -0.024427 -0.024427 -0.024427 -0.024427 -0.024427   \n",
              "1675 -0.184203  0.323206 -0.024427 -0.024427 -0.024427 -0.024427 -0.024427   \n",
              "1676 -0.184203  0.323206 -0.024427 -0.024427 -0.024427 -0.024427 -0.024427   \n",
              "\n",
              "          7         8         9     ...      1833      1834      1835  \\\n",
              "0    -0.024427 -0.024427 -0.024427  ... -0.123017 -0.351058 -0.195934   \n",
              "1    -0.024427 -0.024427 -0.024427  ... -0.123017 -0.351058 -0.195934   \n",
              "2    -0.024427 -0.024427 -0.024427  ... -0.123017 -0.351058 -0.195934   \n",
              "3    -0.024427 -0.024427 -0.024427  ... -0.123017 -0.351058 -0.195934   \n",
              "4    -0.024427 -0.024427 -0.024427  ... -0.123017 -0.351058 -0.195934   \n",
              "...        ...       ...       ...  ...       ...       ...       ...   \n",
              "1672 -0.024427 -0.024427 -0.024427  ... -0.123017 -0.351058 -0.195934   \n",
              "1673 -0.024427 -0.024427 -0.024427  ... -0.123017 -0.351058 -0.195934   \n",
              "1674 -0.024427 -0.024427 -0.024427  ... -0.123017 -0.351058 -0.195934   \n",
              "1675 -0.024427 -0.024427 -0.024427  ... -0.123017 -0.351058 -0.195934   \n",
              "1676 -0.024427 -0.024427 -0.024427  ... -0.123017 -0.351058 -0.195934   \n",
              "\n",
              "          1836      1837      1838     1839      1840      1841      1842  \n",
              "0    -0.200805 -0.098147 -0.073455 -0.12792 -0.042333 -0.064743 -0.130307  \n",
              "1    -0.200805 -0.098147 -0.073455 -0.12792 -0.042333 -0.064743 -0.130307  \n",
              "2    -0.200805 -0.098147 -0.073455 -0.12792 -0.042333 -0.064743 -0.130307  \n",
              "3    -0.200805 -0.098147 -0.073455 -0.12792 -0.042333 -0.064743 -0.130307  \n",
              "4    -0.200805 -0.098147 -0.073455 -0.12792 -0.042333 -0.064743 -0.130307  \n",
              "...        ...       ...       ...      ...       ...       ...       ...  \n",
              "1672 -0.200805 -0.098147 -0.073455 -0.12792 -0.042333 -0.064743 -0.130307  \n",
              "1673 -0.200805 -0.098147 -0.073455 -0.12792 -0.042333 -0.064743 -0.130307  \n",
              "1674 -0.200805 -0.098147 -0.073455 -0.12792 -0.042333 -0.064743 -0.130307  \n",
              "1675 -0.200805 -0.098147 -0.073455 -0.12792 -0.042333 -0.064743 -0.130307  \n",
              "1676 -0.200805 -0.098147 -0.073455 -0.12792 -0.042333 -0.064743 -0.130307  \n",
              "\n",
              "[1677 rows x 1843 columns]"
            ],
            "text/html": [
              "\n",
              "  <div id=\"df-97f0fbbb-3daf-418f-ada8-22e4b3e91404\">\n",
              "    <div class=\"colab-df-container\">\n",
              "      <div>\n",
              "<style scoped>\n",
              "    .dataframe tbody tr th:only-of-type {\n",
              "        vertical-align: middle;\n",
              "    }\n",
              "\n",
              "    .dataframe tbody tr th {\n",
              "        vertical-align: top;\n",
              "    }\n",
              "\n",
              "    .dataframe thead th {\n",
              "        text-align: right;\n",
              "    }\n",
              "</style>\n",
              "<table border=\"1\" class=\"dataframe\">\n",
              "  <thead>\n",
              "    <tr style=\"text-align: right;\">\n",
              "      <th></th>\n",
              "      <th>0</th>\n",
              "      <th>1</th>\n",
              "      <th>2</th>\n",
              "      <th>3</th>\n",
              "      <th>4</th>\n",
              "      <th>5</th>\n",
              "      <th>6</th>\n",
              "      <th>7</th>\n",
              "      <th>8</th>\n",
              "      <th>9</th>\n",
              "      <th>...</th>\n",
              "      <th>1833</th>\n",
              "      <th>1834</th>\n",
              "      <th>1835</th>\n",
              "      <th>1836</th>\n",
              "      <th>1837</th>\n",
              "      <th>1838</th>\n",
              "      <th>1839</th>\n",
              "      <th>1840</th>\n",
              "      <th>1841</th>\n",
              "      <th>1842</th>\n",
              "    </tr>\n",
              "  </thead>\n",
              "  <tbody>\n",
              "    <tr>\n",
              "      <th>0</th>\n",
              "      <td>2.807973</td>\n",
              "      <td>3.354524</td>\n",
              "      <td>-0.024427</td>\n",
              "      <td>-0.024427</td>\n",
              "      <td>-0.024427</td>\n",
              "      <td>-0.024427</td>\n",
              "      <td>-0.024427</td>\n",
              "      <td>-0.024427</td>\n",
              "      <td>-0.024427</td>\n",
              "      <td>-0.024427</td>\n",
              "      <td>...</td>\n",
              "      <td>-0.123017</td>\n",
              "      <td>-0.351058</td>\n",
              "      <td>-0.195934</td>\n",
              "      <td>-0.200805</td>\n",
              "      <td>-0.098147</td>\n",
              "      <td>-0.073455</td>\n",
              "      <td>-0.12792</td>\n",
              "      <td>-0.042333</td>\n",
              "      <td>-0.064743</td>\n",
              "      <td>-0.130307</td>\n",
              "    </tr>\n",
              "    <tr>\n",
              "      <th>1</th>\n",
              "      <td>3.827325</td>\n",
              "      <td>-2.542729</td>\n",
              "      <td>-0.024427</td>\n",
              "      <td>-0.024427</td>\n",
              "      <td>-0.024427</td>\n",
              "      <td>-0.024427</td>\n",
              "      <td>-0.024427</td>\n",
              "      <td>-0.024427</td>\n",
              "      <td>-0.024427</td>\n",
              "      <td>-0.024427</td>\n",
              "      <td>...</td>\n",
              "      <td>-0.123017</td>\n",
              "      <td>-0.351058</td>\n",
              "      <td>-0.195934</td>\n",
              "      <td>-0.200805</td>\n",
              "      <td>-0.098147</td>\n",
              "      <td>-0.073455</td>\n",
              "      <td>-0.12792</td>\n",
              "      <td>-0.042333</td>\n",
              "      <td>-0.064743</td>\n",
              "      <td>-0.130307</td>\n",
              "    </tr>\n",
              "    <tr>\n",
              "      <th>2</th>\n",
              "      <td>3.317649</td>\n",
              "      <td>-0.448777</td>\n",
              "      <td>-0.024427</td>\n",
              "      <td>-0.024427</td>\n",
              "      <td>-0.024427</td>\n",
              "      <td>-0.024427</td>\n",
              "      <td>-0.024427</td>\n",
              "      <td>-0.024427</td>\n",
              "      <td>-0.024427</td>\n",
              "      <td>-0.024427</td>\n",
              "      <td>...</td>\n",
              "      <td>-0.123017</td>\n",
              "      <td>-0.351058</td>\n",
              "      <td>-0.195934</td>\n",
              "      <td>-0.200805</td>\n",
              "      <td>-0.098147</td>\n",
              "      <td>-0.073455</td>\n",
              "      <td>-0.12792</td>\n",
              "      <td>-0.042333</td>\n",
              "      <td>-0.064743</td>\n",
              "      <td>-0.130307</td>\n",
              "    </tr>\n",
              "    <tr>\n",
              "      <th>3</th>\n",
              "      <td>-2.798460</td>\n",
              "      <td>-0.534244</td>\n",
              "      <td>-0.024427</td>\n",
              "      <td>-0.024427</td>\n",
              "      <td>-0.024427</td>\n",
              "      <td>-0.024427</td>\n",
              "      <td>-0.024427</td>\n",
              "      <td>-0.024427</td>\n",
              "      <td>-0.024427</td>\n",
              "      <td>-0.024427</td>\n",
              "      <td>...</td>\n",
              "      <td>-0.123017</td>\n",
              "      <td>-0.351058</td>\n",
              "      <td>-0.195934</td>\n",
              "      <td>-0.200805</td>\n",
              "      <td>-0.098147</td>\n",
              "      <td>-0.073455</td>\n",
              "      <td>-0.12792</td>\n",
              "      <td>-0.042333</td>\n",
              "      <td>-0.064743</td>\n",
              "      <td>-0.130307</td>\n",
              "    </tr>\n",
              "    <tr>\n",
              "      <th>4</th>\n",
              "      <td>0.259594</td>\n",
              "      <td>1.346039</td>\n",
              "      <td>-0.024427</td>\n",
              "      <td>-0.024427</td>\n",
              "      <td>-0.024427</td>\n",
              "      <td>-0.024427</td>\n",
              "      <td>-0.024427</td>\n",
              "      <td>-0.024427</td>\n",
              "      <td>-0.024427</td>\n",
              "      <td>-0.024427</td>\n",
              "      <td>...</td>\n",
              "      <td>-0.123017</td>\n",
              "      <td>-0.351058</td>\n",
              "      <td>-0.195934</td>\n",
              "      <td>-0.200805</td>\n",
              "      <td>-0.098147</td>\n",
              "      <td>-0.073455</td>\n",
              "      <td>-0.12792</td>\n",
              "      <td>-0.042333</td>\n",
              "      <td>-0.064743</td>\n",
              "      <td>-0.130307</td>\n",
              "    </tr>\n",
              "    <tr>\n",
              "      <th>...</th>\n",
              "      <td>...</td>\n",
              "      <td>...</td>\n",
              "      <td>...</td>\n",
              "      <td>...</td>\n",
              "      <td>...</td>\n",
              "      <td>...</td>\n",
              "      <td>...</td>\n",
              "      <td>...</td>\n",
              "      <td>...</td>\n",
              "      <td>...</td>\n",
              "      <td>...</td>\n",
              "      <td>...</td>\n",
              "      <td>...</td>\n",
              "      <td>...</td>\n",
              "      <td>...</td>\n",
              "      <td>...</td>\n",
              "      <td>...</td>\n",
              "      <td>...</td>\n",
              "      <td>...</td>\n",
              "      <td>...</td>\n",
              "      <td>...</td>\n",
              "    </tr>\n",
              "    <tr>\n",
              "      <th>1672</th>\n",
              "      <td>3.317649</td>\n",
              "      <td>-2.158125</td>\n",
              "      <td>-0.024427</td>\n",
              "      <td>-0.024427</td>\n",
              "      <td>-0.024427</td>\n",
              "      <td>-0.024427</td>\n",
              "      <td>-0.024427</td>\n",
              "      <td>-0.024427</td>\n",
              "      <td>-0.024427</td>\n",
              "      <td>-0.024427</td>\n",
              "      <td>...</td>\n",
              "      <td>-0.123017</td>\n",
              "      <td>-0.351058</td>\n",
              "      <td>-0.195934</td>\n",
              "      <td>-0.200805</td>\n",
              "      <td>-0.098147</td>\n",
              "      <td>-0.073455</td>\n",
              "      <td>-0.12792</td>\n",
              "      <td>-0.042333</td>\n",
              "      <td>-0.064743</td>\n",
              "      <td>-0.130307</td>\n",
              "    </tr>\n",
              "    <tr>\n",
              "      <th>1673</th>\n",
              "      <td>-0.184203</td>\n",
              "      <td>0.323206</td>\n",
              "      <td>-0.024427</td>\n",
              "      <td>-0.024427</td>\n",
              "      <td>-0.024427</td>\n",
              "      <td>-0.024427</td>\n",
              "      <td>-0.024427</td>\n",
              "      <td>-0.024427</td>\n",
              "      <td>-0.024427</td>\n",
              "      <td>-0.024427</td>\n",
              "      <td>...</td>\n",
              "      <td>-0.123017</td>\n",
              "      <td>-0.351058</td>\n",
              "      <td>-0.195934</td>\n",
              "      <td>-0.200805</td>\n",
              "      <td>-0.098147</td>\n",
              "      <td>-0.073455</td>\n",
              "      <td>-0.12792</td>\n",
              "      <td>-0.042333</td>\n",
              "      <td>-0.064743</td>\n",
              "      <td>-0.130307</td>\n",
              "    </tr>\n",
              "    <tr>\n",
              "      <th>1674</th>\n",
              "      <td>-0.184203</td>\n",
              "      <td>0.323206</td>\n",
              "      <td>-0.024427</td>\n",
              "      <td>-0.024427</td>\n",
              "      <td>-0.024427</td>\n",
              "      <td>-0.024427</td>\n",
              "      <td>-0.024427</td>\n",
              "      <td>-0.024427</td>\n",
              "      <td>-0.024427</td>\n",
              "      <td>-0.024427</td>\n",
              "      <td>...</td>\n",
              "      <td>-0.123017</td>\n",
              "      <td>-0.351058</td>\n",
              "      <td>-0.195934</td>\n",
              "      <td>-0.200805</td>\n",
              "      <td>-0.098147</td>\n",
              "      <td>-0.073455</td>\n",
              "      <td>-0.12792</td>\n",
              "      <td>-0.042333</td>\n",
              "      <td>-0.064743</td>\n",
              "      <td>-0.130307</td>\n",
              "    </tr>\n",
              "    <tr>\n",
              "      <th>1675</th>\n",
              "      <td>-0.184203</td>\n",
              "      <td>0.323206</td>\n",
              "      <td>-0.024427</td>\n",
              "      <td>-0.024427</td>\n",
              "      <td>-0.024427</td>\n",
              "      <td>-0.024427</td>\n",
              "      <td>-0.024427</td>\n",
              "      <td>-0.024427</td>\n",
              "      <td>-0.024427</td>\n",
              "      <td>-0.024427</td>\n",
              "      <td>...</td>\n",
              "      <td>-0.123017</td>\n",
              "      <td>-0.351058</td>\n",
              "      <td>-0.195934</td>\n",
              "      <td>-0.200805</td>\n",
              "      <td>-0.098147</td>\n",
              "      <td>-0.073455</td>\n",
              "      <td>-0.12792</td>\n",
              "      <td>-0.042333</td>\n",
              "      <td>-0.064743</td>\n",
              "      <td>-0.130307</td>\n",
              "    </tr>\n",
              "    <tr>\n",
              "      <th>1676</th>\n",
              "      <td>-0.184203</td>\n",
              "      <td>0.323206</td>\n",
              "      <td>-0.024427</td>\n",
              "      <td>-0.024427</td>\n",
              "      <td>-0.024427</td>\n",
              "      <td>-0.024427</td>\n",
              "      <td>-0.024427</td>\n",
              "      <td>-0.024427</td>\n",
              "      <td>-0.024427</td>\n",
              "      <td>-0.024427</td>\n",
              "      <td>...</td>\n",
              "      <td>-0.123017</td>\n",
              "      <td>-0.351058</td>\n",
              "      <td>-0.195934</td>\n",
              "      <td>-0.200805</td>\n",
              "      <td>-0.098147</td>\n",
              "      <td>-0.073455</td>\n",
              "      <td>-0.12792</td>\n",
              "      <td>-0.042333</td>\n",
              "      <td>-0.064743</td>\n",
              "      <td>-0.130307</td>\n",
              "    </tr>\n",
              "  </tbody>\n",
              "</table>\n",
              "<p>1677 rows × 1843 columns</p>\n",
              "</div>\n",
              "      <button class=\"colab-df-convert\" onclick=\"convertToInteractive('df-97f0fbbb-3daf-418f-ada8-22e4b3e91404')\"\n",
              "              title=\"Convert this dataframe to an interactive table.\"\n",
              "              style=\"display:none;\">\n",
              "        \n",
              "  <svg xmlns=\"http://www.w3.org/2000/svg\" height=\"24px\"viewBox=\"0 0 24 24\"\n",
              "       width=\"24px\">\n",
              "    <path d=\"M0 0h24v24H0V0z\" fill=\"none\"/>\n",
              "    <path d=\"M18.56 5.44l.94 2.06.94-2.06 2.06-.94-2.06-.94-.94-2.06-.94 2.06-2.06.94zm-11 1L8.5 8.5l.94-2.06 2.06-.94-2.06-.94L8.5 2.5l-.94 2.06-2.06.94zm10 10l.94 2.06.94-2.06 2.06-.94-2.06-.94-.94-2.06-.94 2.06-2.06.94z\"/><path d=\"M17.41 7.96l-1.37-1.37c-.4-.4-.92-.59-1.43-.59-.52 0-1.04.2-1.43.59L10.3 9.45l-7.72 7.72c-.78.78-.78 2.05 0 2.83L4 21.41c.39.39.9.59 1.41.59.51 0 1.02-.2 1.41-.59l7.78-7.78 2.81-2.81c.8-.78.8-2.07 0-2.86zM5.41 20L4 18.59l7.72-7.72 1.47 1.35L5.41 20z\"/>\n",
              "  </svg>\n",
              "      </button>\n",
              "      \n",
              "  <style>\n",
              "    .colab-df-container {\n",
              "      display:flex;\n",
              "      flex-wrap:wrap;\n",
              "      gap: 12px;\n",
              "    }\n",
              "\n",
              "    .colab-df-convert {\n",
              "      background-color: #E8F0FE;\n",
              "      border: none;\n",
              "      border-radius: 50%;\n",
              "      cursor: pointer;\n",
              "      display: none;\n",
              "      fill: #1967D2;\n",
              "      height: 32px;\n",
              "      padding: 0 0 0 0;\n",
              "      width: 32px;\n",
              "    }\n",
              "\n",
              "    .colab-df-convert:hover {\n",
              "      background-color: #E2EBFA;\n",
              "      box-shadow: 0px 1px 2px rgba(60, 64, 67, 0.3), 0px 1px 3px 1px rgba(60, 64, 67, 0.15);\n",
              "      fill: #174EA6;\n",
              "    }\n",
              "\n",
              "    [theme=dark] .colab-df-convert {\n",
              "      background-color: #3B4455;\n",
              "      fill: #D2E3FC;\n",
              "    }\n",
              "\n",
              "    [theme=dark] .colab-df-convert:hover {\n",
              "      background-color: #434B5C;\n",
              "      box-shadow: 0px 1px 3px 1px rgba(0, 0, 0, 0.15);\n",
              "      filter: drop-shadow(0px 1px 2px rgba(0, 0, 0, 0.3));\n",
              "      fill: #FFFFFF;\n",
              "    }\n",
              "  </style>\n",
              "\n",
              "      <script>\n",
              "        const buttonEl =\n",
              "          document.querySelector('#df-97f0fbbb-3daf-418f-ada8-22e4b3e91404 button.colab-df-convert');\n",
              "        buttonEl.style.display =\n",
              "          google.colab.kernel.accessAllowed ? 'block' : 'none';\n",
              "\n",
              "        async function convertToInteractive(key) {\n",
              "          const element = document.querySelector('#df-97f0fbbb-3daf-418f-ada8-22e4b3e91404');\n",
              "          const dataTable =\n",
              "            await google.colab.kernel.invokeFunction('convertToInteractive',\n",
              "                                                     [key], {});\n",
              "          if (!dataTable) return;\n",
              "\n",
              "          const docLinkHtml = 'Like what you see? Visit the ' +\n",
              "            '<a target=\"_blank\" href=https://colab.research.google.com/notebooks/data_table.ipynb>data table notebook</a>'\n",
              "            + ' to learn more about interactive tables.';\n",
              "          element.innerHTML = '';\n",
              "          dataTable['output_type'] = 'display_data';\n",
              "          await google.colab.output.renderOutput(dataTable, element);\n",
              "          const docLink = document.createElement('div');\n",
              "          docLink.innerHTML = docLinkHtml;\n",
              "          element.appendChild(docLink);\n",
              "        }\n",
              "      </script>\n",
              "    </div>\n",
              "  </div>\n",
              "  "
            ]
          },
          "metadata": {},
          "execution_count": 48
        }
      ],
      "source": [
        "from sklearn.preprocessing import StandardScaler\n",
        "std_scale = StandardScaler().fit_transform(x)\n",
        "std_scale = pd.DataFrame(std_scale)\n",
        "\n",
        "std_scale"
      ]
    },
    {
      "cell_type": "markdown",
      "metadata": {
        "id": "AdhBeaKIFLfN"
      },
      "source": [
        "**4.2.2 Normalization**\n",
        "\n",
        "A way to normalize the input features/variables is the Min-Max scaler. By doing so, all features will be transformed into the range [0,1] meaning that the minimum and maximum value of a feature/variable is going to be 0 and 1, respectively.\n",
        "\n",
        "The main idea behind normalization/standardization is always the same. Variables that are measured at different scales do not contribute equally to the model fitting & model learned function and might end up creating a bias. Thus, to deal with this potential problem feature-wise normalization such as MinMax Scaling is usually used prior to model fitting.\n",
        "\n",
        "reference : https://stackoverflow.com/questions/62178888/can-someone-explain-to-me-how-minmaxscaler-works\n"
      ]
    },
    {
      "cell_type": "code",
      "execution_count": 49,
      "metadata": {
        "colab": {
          "base_uri": "https://localhost:8080/",
          "height": 423
        },
        "id": "gtFKYb9DlEhV",
        "outputId": "32feda4b-47b1-4208-b304-bf8d8c51fa98",
        "vscode": {
          "languageId": "python"
        }
      },
      "outputs": [
        {
          "output_type": "execute_result",
          "data": {
            "text/plain": [
              "          0         1     2     3     4     5     6     7     8     9     ...  \\\n",
              "0     0.785714  0.852941   0.0   0.0   0.0   0.0   0.0   0.0   0.0   0.0  ...   \n",
              "1     0.928571  0.041176   0.0   0.0   0.0   0.0   0.0   0.0   0.0   0.0  ...   \n",
              "2     0.857143  0.329412   0.0   0.0   0.0   0.0   0.0   0.0   0.0   0.0  ...   \n",
              "3     0.000000  0.317647   0.0   0.0   0.0   0.0   0.0   0.0   0.0   0.0  ...   \n",
              "4     0.428571  0.576471   0.0   0.0   0.0   0.0   0.0   0.0   0.0   0.0  ...   \n",
              "...        ...       ...   ...   ...   ...   ...   ...   ...   ...   ...  ...   \n",
              "1672  0.857143  0.094118   0.0   0.0   0.0   0.0   0.0   0.0   0.0   0.0  ...   \n",
              "1673  0.366375  0.435676   0.0   0.0   0.0   0.0   0.0   0.0   0.0   0.0  ...   \n",
              "1674  0.366375  0.435676   0.0   0.0   0.0   0.0   0.0   0.0   0.0   0.0  ...   \n",
              "1675  0.366375  0.435676   0.0   0.0   0.0   0.0   0.0   0.0   0.0   0.0  ...   \n",
              "1676  0.366375  0.435676   0.0   0.0   0.0   0.0   0.0   0.0   0.0   0.0  ...   \n",
              "\n",
              "      1833  1834  1835  1836  1837  1838  1839  1840  1841  1842  \n",
              "0      0.0   0.0   0.0   0.0   0.0   0.0   0.0   0.0   0.0   0.0  \n",
              "1      0.0   0.0   0.0   0.0   0.0   0.0   0.0   0.0   0.0   0.0  \n",
              "2      0.0   0.0   0.0   0.0   0.0   0.0   0.0   0.0   0.0   0.0  \n",
              "3      0.0   0.0   0.0   0.0   0.0   0.0   0.0   0.0   0.0   0.0  \n",
              "4      0.0   0.0   0.0   0.0   0.0   0.0   0.0   0.0   0.0   0.0  \n",
              "...    ...   ...   ...   ...   ...   ...   ...   ...   ...   ...  \n",
              "1672   0.0   0.0   0.0   0.0   0.0   0.0   0.0   0.0   0.0   0.0  \n",
              "1673   0.0   0.0   0.0   0.0   0.0   0.0   0.0   0.0   0.0   0.0  \n",
              "1674   0.0   0.0   0.0   0.0   0.0   0.0   0.0   0.0   0.0   0.0  \n",
              "1675   0.0   0.0   0.0   0.0   0.0   0.0   0.0   0.0   0.0   0.0  \n",
              "1676   0.0   0.0   0.0   0.0   0.0   0.0   0.0   0.0   0.0   0.0  \n",
              "\n",
              "[1677 rows x 1843 columns]"
            ],
            "text/html": [
              "\n",
              "  <div id=\"df-4153fb8a-bf33-4c80-bbc0-10e58f601a60\">\n",
              "    <div class=\"colab-df-container\">\n",
              "      <div>\n",
              "<style scoped>\n",
              "    .dataframe tbody tr th:only-of-type {\n",
              "        vertical-align: middle;\n",
              "    }\n",
              "\n",
              "    .dataframe tbody tr th {\n",
              "        vertical-align: top;\n",
              "    }\n",
              "\n",
              "    .dataframe thead th {\n",
              "        text-align: right;\n",
              "    }\n",
              "</style>\n",
              "<table border=\"1\" class=\"dataframe\">\n",
              "  <thead>\n",
              "    <tr style=\"text-align: right;\">\n",
              "      <th></th>\n",
              "      <th>0</th>\n",
              "      <th>1</th>\n",
              "      <th>2</th>\n",
              "      <th>3</th>\n",
              "      <th>4</th>\n",
              "      <th>5</th>\n",
              "      <th>6</th>\n",
              "      <th>7</th>\n",
              "      <th>8</th>\n",
              "      <th>9</th>\n",
              "      <th>...</th>\n",
              "      <th>1833</th>\n",
              "      <th>1834</th>\n",
              "      <th>1835</th>\n",
              "      <th>1836</th>\n",
              "      <th>1837</th>\n",
              "      <th>1838</th>\n",
              "      <th>1839</th>\n",
              "      <th>1840</th>\n",
              "      <th>1841</th>\n",
              "      <th>1842</th>\n",
              "    </tr>\n",
              "  </thead>\n",
              "  <tbody>\n",
              "    <tr>\n",
              "      <th>0</th>\n",
              "      <td>0.785714</td>\n",
              "      <td>0.852941</td>\n",
              "      <td>0.0</td>\n",
              "      <td>0.0</td>\n",
              "      <td>0.0</td>\n",
              "      <td>0.0</td>\n",
              "      <td>0.0</td>\n",
              "      <td>0.0</td>\n",
              "      <td>0.0</td>\n",
              "      <td>0.0</td>\n",
              "      <td>...</td>\n",
              "      <td>0.0</td>\n",
              "      <td>0.0</td>\n",
              "      <td>0.0</td>\n",
              "      <td>0.0</td>\n",
              "      <td>0.0</td>\n",
              "      <td>0.0</td>\n",
              "      <td>0.0</td>\n",
              "      <td>0.0</td>\n",
              "      <td>0.0</td>\n",
              "      <td>0.0</td>\n",
              "    </tr>\n",
              "    <tr>\n",
              "      <th>1</th>\n",
              "      <td>0.928571</td>\n",
              "      <td>0.041176</td>\n",
              "      <td>0.0</td>\n",
              "      <td>0.0</td>\n",
              "      <td>0.0</td>\n",
              "      <td>0.0</td>\n",
              "      <td>0.0</td>\n",
              "      <td>0.0</td>\n",
              "      <td>0.0</td>\n",
              "      <td>0.0</td>\n",
              "      <td>...</td>\n",
              "      <td>0.0</td>\n",
              "      <td>0.0</td>\n",
              "      <td>0.0</td>\n",
              "      <td>0.0</td>\n",
              "      <td>0.0</td>\n",
              "      <td>0.0</td>\n",
              "      <td>0.0</td>\n",
              "      <td>0.0</td>\n",
              "      <td>0.0</td>\n",
              "      <td>0.0</td>\n",
              "    </tr>\n",
              "    <tr>\n",
              "      <th>2</th>\n",
              "      <td>0.857143</td>\n",
              "      <td>0.329412</td>\n",
              "      <td>0.0</td>\n",
              "      <td>0.0</td>\n",
              "      <td>0.0</td>\n",
              "      <td>0.0</td>\n",
              "      <td>0.0</td>\n",
              "      <td>0.0</td>\n",
              "      <td>0.0</td>\n",
              "      <td>0.0</td>\n",
              "      <td>...</td>\n",
              "      <td>0.0</td>\n",
              "      <td>0.0</td>\n",
              "      <td>0.0</td>\n",
              "      <td>0.0</td>\n",
              "      <td>0.0</td>\n",
              "      <td>0.0</td>\n",
              "      <td>0.0</td>\n",
              "      <td>0.0</td>\n",
              "      <td>0.0</td>\n",
              "      <td>0.0</td>\n",
              "    </tr>\n",
              "    <tr>\n",
              "      <th>3</th>\n",
              "      <td>0.000000</td>\n",
              "      <td>0.317647</td>\n",
              "      <td>0.0</td>\n",
              "      <td>0.0</td>\n",
              "      <td>0.0</td>\n",
              "      <td>0.0</td>\n",
              "      <td>0.0</td>\n",
              "      <td>0.0</td>\n",
              "      <td>0.0</td>\n",
              "      <td>0.0</td>\n",
              "      <td>...</td>\n",
              "      <td>0.0</td>\n",
              "      <td>0.0</td>\n",
              "      <td>0.0</td>\n",
              "      <td>0.0</td>\n",
              "      <td>0.0</td>\n",
              "      <td>0.0</td>\n",
              "      <td>0.0</td>\n",
              "      <td>0.0</td>\n",
              "      <td>0.0</td>\n",
              "      <td>0.0</td>\n",
              "    </tr>\n",
              "    <tr>\n",
              "      <th>4</th>\n",
              "      <td>0.428571</td>\n",
              "      <td>0.576471</td>\n",
              "      <td>0.0</td>\n",
              "      <td>0.0</td>\n",
              "      <td>0.0</td>\n",
              "      <td>0.0</td>\n",
              "      <td>0.0</td>\n",
              "      <td>0.0</td>\n",
              "      <td>0.0</td>\n",
              "      <td>0.0</td>\n",
              "      <td>...</td>\n",
              "      <td>0.0</td>\n",
              "      <td>0.0</td>\n",
              "      <td>0.0</td>\n",
              "      <td>0.0</td>\n",
              "      <td>0.0</td>\n",
              "      <td>0.0</td>\n",
              "      <td>0.0</td>\n",
              "      <td>0.0</td>\n",
              "      <td>0.0</td>\n",
              "      <td>0.0</td>\n",
              "    </tr>\n",
              "    <tr>\n",
              "      <th>...</th>\n",
              "      <td>...</td>\n",
              "      <td>...</td>\n",
              "      <td>...</td>\n",
              "      <td>...</td>\n",
              "      <td>...</td>\n",
              "      <td>...</td>\n",
              "      <td>...</td>\n",
              "      <td>...</td>\n",
              "      <td>...</td>\n",
              "      <td>...</td>\n",
              "      <td>...</td>\n",
              "      <td>...</td>\n",
              "      <td>...</td>\n",
              "      <td>...</td>\n",
              "      <td>...</td>\n",
              "      <td>...</td>\n",
              "      <td>...</td>\n",
              "      <td>...</td>\n",
              "      <td>...</td>\n",
              "      <td>...</td>\n",
              "      <td>...</td>\n",
              "    </tr>\n",
              "    <tr>\n",
              "      <th>1672</th>\n",
              "      <td>0.857143</td>\n",
              "      <td>0.094118</td>\n",
              "      <td>0.0</td>\n",
              "      <td>0.0</td>\n",
              "      <td>0.0</td>\n",
              "      <td>0.0</td>\n",
              "      <td>0.0</td>\n",
              "      <td>0.0</td>\n",
              "      <td>0.0</td>\n",
              "      <td>0.0</td>\n",
              "      <td>...</td>\n",
              "      <td>0.0</td>\n",
              "      <td>0.0</td>\n",
              "      <td>0.0</td>\n",
              "      <td>0.0</td>\n",
              "      <td>0.0</td>\n",
              "      <td>0.0</td>\n",
              "      <td>0.0</td>\n",
              "      <td>0.0</td>\n",
              "      <td>0.0</td>\n",
              "      <td>0.0</td>\n",
              "    </tr>\n",
              "    <tr>\n",
              "      <th>1673</th>\n",
              "      <td>0.366375</td>\n",
              "      <td>0.435676</td>\n",
              "      <td>0.0</td>\n",
              "      <td>0.0</td>\n",
              "      <td>0.0</td>\n",
              "      <td>0.0</td>\n",
              "      <td>0.0</td>\n",
              "      <td>0.0</td>\n",
              "      <td>0.0</td>\n",
              "      <td>0.0</td>\n",
              "      <td>...</td>\n",
              "      <td>0.0</td>\n",
              "      <td>0.0</td>\n",
              "      <td>0.0</td>\n",
              "      <td>0.0</td>\n",
              "      <td>0.0</td>\n",
              "      <td>0.0</td>\n",
              "      <td>0.0</td>\n",
              "      <td>0.0</td>\n",
              "      <td>0.0</td>\n",
              "      <td>0.0</td>\n",
              "    </tr>\n",
              "    <tr>\n",
              "      <th>1674</th>\n",
              "      <td>0.366375</td>\n",
              "      <td>0.435676</td>\n",
              "      <td>0.0</td>\n",
              "      <td>0.0</td>\n",
              "      <td>0.0</td>\n",
              "      <td>0.0</td>\n",
              "      <td>0.0</td>\n",
              "      <td>0.0</td>\n",
              "      <td>0.0</td>\n",
              "      <td>0.0</td>\n",
              "      <td>...</td>\n",
              "      <td>0.0</td>\n",
              "      <td>0.0</td>\n",
              "      <td>0.0</td>\n",
              "      <td>0.0</td>\n",
              "      <td>0.0</td>\n",
              "      <td>0.0</td>\n",
              "      <td>0.0</td>\n",
              "      <td>0.0</td>\n",
              "      <td>0.0</td>\n",
              "      <td>0.0</td>\n",
              "    </tr>\n",
              "    <tr>\n",
              "      <th>1675</th>\n",
              "      <td>0.366375</td>\n",
              "      <td>0.435676</td>\n",
              "      <td>0.0</td>\n",
              "      <td>0.0</td>\n",
              "      <td>0.0</td>\n",
              "      <td>0.0</td>\n",
              "      <td>0.0</td>\n",
              "      <td>0.0</td>\n",
              "      <td>0.0</td>\n",
              "      <td>0.0</td>\n",
              "      <td>...</td>\n",
              "      <td>0.0</td>\n",
              "      <td>0.0</td>\n",
              "      <td>0.0</td>\n",
              "      <td>0.0</td>\n",
              "      <td>0.0</td>\n",
              "      <td>0.0</td>\n",
              "      <td>0.0</td>\n",
              "      <td>0.0</td>\n",
              "      <td>0.0</td>\n",
              "      <td>0.0</td>\n",
              "    </tr>\n",
              "    <tr>\n",
              "      <th>1676</th>\n",
              "      <td>0.366375</td>\n",
              "      <td>0.435676</td>\n",
              "      <td>0.0</td>\n",
              "      <td>0.0</td>\n",
              "      <td>0.0</td>\n",
              "      <td>0.0</td>\n",
              "      <td>0.0</td>\n",
              "      <td>0.0</td>\n",
              "      <td>0.0</td>\n",
              "      <td>0.0</td>\n",
              "      <td>...</td>\n",
              "      <td>0.0</td>\n",
              "      <td>0.0</td>\n",
              "      <td>0.0</td>\n",
              "      <td>0.0</td>\n",
              "      <td>0.0</td>\n",
              "      <td>0.0</td>\n",
              "      <td>0.0</td>\n",
              "      <td>0.0</td>\n",
              "      <td>0.0</td>\n",
              "      <td>0.0</td>\n",
              "    </tr>\n",
              "  </tbody>\n",
              "</table>\n",
              "<p>1677 rows × 1843 columns</p>\n",
              "</div>\n",
              "      <button class=\"colab-df-convert\" onclick=\"convertToInteractive('df-4153fb8a-bf33-4c80-bbc0-10e58f601a60')\"\n",
              "              title=\"Convert this dataframe to an interactive table.\"\n",
              "              style=\"display:none;\">\n",
              "        \n",
              "  <svg xmlns=\"http://www.w3.org/2000/svg\" height=\"24px\"viewBox=\"0 0 24 24\"\n",
              "       width=\"24px\">\n",
              "    <path d=\"M0 0h24v24H0V0z\" fill=\"none\"/>\n",
              "    <path d=\"M18.56 5.44l.94 2.06.94-2.06 2.06-.94-2.06-.94-.94-2.06-.94 2.06-2.06.94zm-11 1L8.5 8.5l.94-2.06 2.06-.94-2.06-.94L8.5 2.5l-.94 2.06-2.06.94zm10 10l.94 2.06.94-2.06 2.06-.94-2.06-.94-.94-2.06-.94 2.06-2.06.94z\"/><path d=\"M17.41 7.96l-1.37-1.37c-.4-.4-.92-.59-1.43-.59-.52 0-1.04.2-1.43.59L10.3 9.45l-7.72 7.72c-.78.78-.78 2.05 0 2.83L4 21.41c.39.39.9.59 1.41.59.51 0 1.02-.2 1.41-.59l7.78-7.78 2.81-2.81c.8-.78.8-2.07 0-2.86zM5.41 20L4 18.59l7.72-7.72 1.47 1.35L5.41 20z\"/>\n",
              "  </svg>\n",
              "      </button>\n",
              "      \n",
              "  <style>\n",
              "    .colab-df-container {\n",
              "      display:flex;\n",
              "      flex-wrap:wrap;\n",
              "      gap: 12px;\n",
              "    }\n",
              "\n",
              "    .colab-df-convert {\n",
              "      background-color: #E8F0FE;\n",
              "      border: none;\n",
              "      border-radius: 50%;\n",
              "      cursor: pointer;\n",
              "      display: none;\n",
              "      fill: #1967D2;\n",
              "      height: 32px;\n",
              "      padding: 0 0 0 0;\n",
              "      width: 32px;\n",
              "    }\n",
              "\n",
              "    .colab-df-convert:hover {\n",
              "      background-color: #E2EBFA;\n",
              "      box-shadow: 0px 1px 2px rgba(60, 64, 67, 0.3), 0px 1px 3px 1px rgba(60, 64, 67, 0.15);\n",
              "      fill: #174EA6;\n",
              "    }\n",
              "\n",
              "    [theme=dark] .colab-df-convert {\n",
              "      background-color: #3B4455;\n",
              "      fill: #D2E3FC;\n",
              "    }\n",
              "\n",
              "    [theme=dark] .colab-df-convert:hover {\n",
              "      background-color: #434B5C;\n",
              "      box-shadow: 0px 1px 3px 1px rgba(0, 0, 0, 0.15);\n",
              "      filter: drop-shadow(0px 1px 2px rgba(0, 0, 0, 0.3));\n",
              "      fill: #FFFFFF;\n",
              "    }\n",
              "  </style>\n",
              "\n",
              "      <script>\n",
              "        const buttonEl =\n",
              "          document.querySelector('#df-4153fb8a-bf33-4c80-bbc0-10e58f601a60 button.colab-df-convert');\n",
              "        buttonEl.style.display =\n",
              "          google.colab.kernel.accessAllowed ? 'block' : 'none';\n",
              "\n",
              "        async function convertToInteractive(key) {\n",
              "          const element = document.querySelector('#df-4153fb8a-bf33-4c80-bbc0-10e58f601a60');\n",
              "          const dataTable =\n",
              "            await google.colab.kernel.invokeFunction('convertToInteractive',\n",
              "                                                     [key], {});\n",
              "          if (!dataTable) return;\n",
              "\n",
              "          const docLinkHtml = 'Like what you see? Visit the ' +\n",
              "            '<a target=\"_blank\" href=https://colab.research.google.com/notebooks/data_table.ipynb>data table notebook</a>'\n",
              "            + ' to learn more about interactive tables.';\n",
              "          element.innerHTML = '';\n",
              "          dataTable['output_type'] = 'display_data';\n",
              "          await google.colab.output.renderOutput(dataTable, element);\n",
              "          const docLink = document.createElement('div');\n",
              "          docLink.innerHTML = docLinkHtml;\n",
              "          element.appendChild(docLink);\n",
              "        }\n",
              "      </script>\n",
              "    </div>\n",
              "  </div>\n",
              "  "
            ]
          },
          "metadata": {},
          "execution_count": 49
        }
      ],
      "source": [
        "from sklearn.preprocessing import MinMaxScaler\n",
        "x = MinMaxScaler().fit_transform(x)\n",
        "x = pd.DataFrame(x)\n",
        "\n",
        "x"
      ]
    },
    {
      "cell_type": "markdown",
      "metadata": {
        "id": "U5mVChyqI7e9"
      },
      "source": [
        "**4.3 Splitting**"
      ]
    },
    {
      "cell_type": "code",
      "execution_count": 50,
      "metadata": {
        "id": "ACJMGLAHigHI",
        "vscode": {
          "languageId": "python"
        }
      },
      "outputs": [],
      "source": [
        "from sklearn.datasets import make_blobs\n",
        "from sklearn.model_selection import train_test_split\n",
        "x,y = make_blobs(n_samples=1000)\n",
        "xTrain, xTest, yTrain, yTest = train_test_split(x, y, test_size=0.33, random_state=1, stratify=y)"
      ]
    },
    {
      "cell_type": "code",
      "execution_count": 51,
      "metadata": {
        "colab": {
          "base_uri": "https://localhost:8080/"
        },
        "id": "sSICmqDpMomI",
        "outputId": "f6693f5d-b520-453c-b7d0-51e1fc480451",
        "vscode": {
          "languageId": "python"
        }
      },
      "outputs": [
        {
          "output_type": "stream",
          "name": "stdout",
          "text": [
            "Train distribution Counter({0: 224, 1: 223, 2: 223})\n",
            "Test distribution Counter({0: 110, 1: 110, 2: 110})\n"
          ]
        }
      ],
      "source": [
        "from collections import Counter\n",
        "print(\"Train distribution\", Counter(yTrain))\n",
        "print(\"Test distribution\", Counter(yTest))"
      ]
    },
    {
      "cell_type": "markdown",
      "metadata": {
        "id": "QyCbWtbCI3v5"
      },
      "source": [
        "This stratify parameter makes a split so that the proportion of values in the sample produced will be the same as the proportion of values provided to parameter stratify.\n",
        "\n",
        "For example, if variable y is a binary categorical variable with values 0 and 1 and there are 25% of zeros and 75% of ones, stratify=y will make sure that your random split has 25% of 0's and 75% of 1's.\n",
        "\n",
        "For more: https://stackoverflow.com/questions/34842405/parameter-stratify-from-method-train-test-split-scikit-learn"
      ]
    },
    {
      "cell_type": "markdown",
      "metadata": {
        "id": "an04NDqXOUHT"
      },
      "source": [
        "Tugas praktekkan dengan dataset yg berbeda dari kaggle dan upload di github\n"
      ]
    },
    {
      "cell_type": "code",
      "execution_count": 52,
      "metadata": {
        "id": "-9rDCS2vNw0D",
        "vscode": {
          "languageId": "python"
        }
      },
      "outputs": [],
      "source": [
        "from sklearn.linear_model import LogisticRegression\n",
        "\n",
        "models = []\n",
        "models.append(('LR', LogisticRegression()))"
      ]
    },
    {
      "cell_type": "code",
      "execution_count": 53,
      "metadata": {
        "colab": {
          "base_uri": "https://localhost:8080/"
        },
        "id": "4_yApp8fqKar",
        "outputId": "a61651b3-e82d-4338-9670-c11d8ddce1ac",
        "vscode": {
          "languageId": "python"
        }
      },
      "outputs": [
        {
          "output_type": "stream",
          "name": "stdout",
          "text": [
            "LR: 0.947761 (0.021370)\n"
          ]
        }
      ],
      "source": [
        "results_c = []\n",
        "names_c = []\n",
        "\n",
        "for name, model in models:\n",
        "    # define how to split off validation data ('kfold' how many folds)\n",
        "    kfold = KFold(n_splits=10)    \n",
        "    # train the model\n",
        "    cv_results = cross_val_score(model, xTrain, yTrain, cv=kfold, scoring='accuracy')    \n",
        "    results_c.append(cv_results)\n",
        "    names_c.append(name)\n",
        "    msg = \"%s: %f (%f)\" % (name, cv_results.mean(), cv_results.std())\n",
        "    print(msg)"
      ]
    },
    {
      "cell_type": "code",
      "execution_count": 54,
      "metadata": {
        "colab": {
          "base_uri": "https://localhost:8080/",
          "height": 74
        },
        "id": "xQ1qS0elrBK6",
        "outputId": "46dce46c-fb48-4236-8ce4-4702fb3a6188",
        "vscode": {
          "languageId": "python"
        }
      },
      "outputs": [
        {
          "output_type": "execute_result",
          "data": {
            "text/plain": [
              "LogisticRegression()"
            ],
            "text/html": [
              "<style>#sk-container-id-3 {color: black;background-color: white;}#sk-container-id-3 pre{padding: 0;}#sk-container-id-3 div.sk-toggleable {background-color: white;}#sk-container-id-3 label.sk-toggleable__label {cursor: pointer;display: block;width: 100%;margin-bottom: 0;padding: 0.3em;box-sizing: border-box;text-align: center;}#sk-container-id-3 label.sk-toggleable__label-arrow:before {content: \"▸\";float: left;margin-right: 0.25em;color: #696969;}#sk-container-id-3 label.sk-toggleable__label-arrow:hover:before {color: black;}#sk-container-id-3 div.sk-estimator:hover label.sk-toggleable__label-arrow:before {color: black;}#sk-container-id-3 div.sk-toggleable__content {max-height: 0;max-width: 0;overflow: hidden;text-align: left;background-color: #f0f8ff;}#sk-container-id-3 div.sk-toggleable__content pre {margin: 0.2em;color: black;border-radius: 0.25em;background-color: #f0f8ff;}#sk-container-id-3 input.sk-toggleable__control:checked~div.sk-toggleable__content {max-height: 200px;max-width: 100%;overflow: auto;}#sk-container-id-3 input.sk-toggleable__control:checked~label.sk-toggleable__label-arrow:before {content: \"▾\";}#sk-container-id-3 div.sk-estimator input.sk-toggleable__control:checked~label.sk-toggleable__label {background-color: #d4ebff;}#sk-container-id-3 div.sk-label input.sk-toggleable__control:checked~label.sk-toggleable__label {background-color: #d4ebff;}#sk-container-id-3 input.sk-hidden--visually {border: 0;clip: rect(1px 1px 1px 1px);clip: rect(1px, 1px, 1px, 1px);height: 1px;margin: -1px;overflow: hidden;padding: 0;position: absolute;width: 1px;}#sk-container-id-3 div.sk-estimator {font-family: monospace;background-color: #f0f8ff;border: 1px dotted black;border-radius: 0.25em;box-sizing: border-box;margin-bottom: 0.5em;}#sk-container-id-3 div.sk-estimator:hover {background-color: #d4ebff;}#sk-container-id-3 div.sk-parallel-item::after {content: \"\";width: 100%;border-bottom: 1px solid gray;flex-grow: 1;}#sk-container-id-3 div.sk-label:hover label.sk-toggleable__label {background-color: #d4ebff;}#sk-container-id-3 div.sk-serial::before {content: \"\";position: absolute;border-left: 1px solid gray;box-sizing: border-box;top: 0;bottom: 0;left: 50%;z-index: 0;}#sk-container-id-3 div.sk-serial {display: flex;flex-direction: column;align-items: center;background-color: white;padding-right: 0.2em;padding-left: 0.2em;position: relative;}#sk-container-id-3 div.sk-item {position: relative;z-index: 1;}#sk-container-id-3 div.sk-parallel {display: flex;align-items: stretch;justify-content: center;background-color: white;position: relative;}#sk-container-id-3 div.sk-item::before, #sk-container-id-3 div.sk-parallel-item::before {content: \"\";position: absolute;border-left: 1px solid gray;box-sizing: border-box;top: 0;bottom: 0;left: 50%;z-index: -1;}#sk-container-id-3 div.sk-parallel-item {display: flex;flex-direction: column;z-index: 1;position: relative;background-color: white;}#sk-container-id-3 div.sk-parallel-item:first-child::after {align-self: flex-end;width: 50%;}#sk-container-id-3 div.sk-parallel-item:last-child::after {align-self: flex-start;width: 50%;}#sk-container-id-3 div.sk-parallel-item:only-child::after {width: 0;}#sk-container-id-3 div.sk-dashed-wrapped {border: 1px dashed gray;margin: 0 0.4em 0.5em 0.4em;box-sizing: border-box;padding-bottom: 0.4em;background-color: white;}#sk-container-id-3 div.sk-label label {font-family: monospace;font-weight: bold;display: inline-block;line-height: 1.2em;}#sk-container-id-3 div.sk-label-container {text-align: center;}#sk-container-id-3 div.sk-container {/* jupyter's `normalize.less` sets `[hidden] { display: none; }` but bootstrap.min.css set `[hidden] { display: none !important; }` so we also need the `!important` here to be able to override the default hidden behavior on the sphinx rendered scikit-learn.org. See: https://github.com/scikit-learn/scikit-learn/issues/21755 */display: inline-block !important;position: relative;}#sk-container-id-3 div.sk-text-repr-fallback {display: none;}</style><div id=\"sk-container-id-3\" class=\"sk-top-container\"><div class=\"sk-text-repr-fallback\"><pre>LogisticRegression()</pre><b>In a Jupyter environment, please rerun this cell to show the HTML representation or trust the notebook. <br />On GitHub, the HTML representation is unable to render, please try loading this page with nbviewer.org.</b></div><div class=\"sk-container\" hidden><div class=\"sk-item\"><div class=\"sk-estimator sk-toggleable\"><input class=\"sk-toggleable__control sk-hidden--visually\" id=\"sk-estimator-id-3\" type=\"checkbox\" checked><label for=\"sk-estimator-id-3\" class=\"sk-toggleable__label sk-toggleable__label-arrow\">LogisticRegression</label><div class=\"sk-toggleable__content\"><pre>LogisticRegression()</pre></div></div></div></div></div>"
            ]
          },
          "metadata": {},
          "execution_count": 54
        }
      ],
      "source": [
        "LR = LogisticRegression()\n",
        "LR.fit(xTrain, yTrain)"
      ]
    },
    {
      "cell_type": "code",
      "execution_count": 55,
      "metadata": {
        "colab": {
          "base_uri": "https://localhost:8080/"
        },
        "id": "08s4bURXrm0U",
        "outputId": "c573920f-5d07-409c-d0a0-b13721bed203",
        "vscode": {
          "languageId": "python"
        }
      },
      "outputs": [
        {
          "output_type": "stream",
          "name": "stdout",
          "text": [
            "0.9424242424242424\n"
          ]
        }
      ],
      "source": [
        "predictions = LR.predict(xTest)\n",
        "print(accuracy_score(yTest, predictions))"
      ]
    },
    {
      "cell_type": "code",
      "execution_count": 56,
      "metadata": {
        "colab": {
          "base_uri": "https://localhost:8080/",
          "height": 726
        },
        "id": "Wh2-d2uCr17a",
        "outputId": "73040579-069a-4c96-c6d3-d63671dd4f3e",
        "vscode": {
          "languageId": "python"
        }
      },
      "outputs": [
        {
          "output_type": "stream",
          "name": "stdout",
          "text": [
            "[[110   0   0]\n",
            " [  0 102   8]\n",
            " [  0  11  99]]\n"
          ]
        },
        {
          "output_type": "display_data",
          "data": {
            "text/plain": [
              "<Figure size 800x800 with 2 Axes>"
            ],
            "image/png": "[encoded data removed]"
          },
          "metadata": {}
        }
      ],
      "source": [
        "# Confusion Matrix \n",
        "from sklearn.metrics import confusion_matrix\n",
        "import pylab as pl\n",
        "\n",
        "print(confusion_matrix(yTest, predictions))\n",
        "\n",
        "cm = confusion_matrix(yTest, predictions)\n",
        "pl.matshow(cm)\n",
        "pl.title('Confusion matrix of the classifier')\n",
        "pl.colorbar()\n",
        "pl.show()"
      ]
    },
    {
      "cell_type": "code",
      "execution_count": 57,
      "metadata": {
        "colab": {
          "base_uri": "https://localhost:8080/"
        },
        "id": "gL6HppHzsRBw",
        "outputId": "8ef0e1cb-9e7b-4be4-82c7-3f7cb3a43207",
        "vscode": {
          "languageId": "python"
        }
      },
      "outputs": [
        {
          "output_type": "stream",
          "name": "stdout",
          "text": [
            "              precision    recall  f1-score   support\n",
            "\n",
            "           0       1.00      1.00      1.00       110\n",
            "           1       0.90      0.93      0.91       110\n",
            "           2       0.93      0.90      0.91       110\n",
            "\n",
            "    accuracy                           0.94       330\n",
            "   macro avg       0.94      0.94      0.94       330\n",
            "weighted avg       0.94      0.94      0.94       330\n",
            "\n"
          ]
        }
      ],
      "source": [
        "# Classification Report\n",
        "from sklearn.metrics import classification_report\n",
        "print(classification_report(yTest, predictions))"
      ]
    },
    {
      "cell_type": "code",
      "execution_count": 57,
      "metadata": {
        "id": "OxfpNV63imB-",
        "vscode": {
          "languageId": "python"
        }
      },
      "outputs": [],
      "source": []
    }
  ],
  "metadata": {
    "accelerator": "TPU",
    "colab": {
      "machine_shape": "hm",
      "provenance": [],
      "include_colab_link": true
    },
    "gpuClass": "premium",
    "kernelspec": {
      "display_name": "Python 3",
      "name": "python3"
    }
  },
  "nbformat": 4,
  "nbformat_minor": 0
}